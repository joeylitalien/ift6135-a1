{
 "cells": [
  {
   "cell_type": "markdown",
   "metadata": {},
   "source": [
    "# Problem 1: MNIST"
   ]
  },
  {
   "cell_type": "markdown",
   "metadata": {},
   "source": [
    "The code for this multilayer perceptron can be found in `mnist.py`. The module `utils.py` contains helper functions to load the dataset, display progress bar, plot graphs, etc."
   ]
  },
  {
   "cell_type": "code",
   "execution_count": 1,
   "metadata": {},
   "outputs": [],
   "source": [
    "import sys\n",
    "sys.path.append('../src/')\n",
    "from mnist_v2 import *"
   ]
  },
  {
   "cell_type": "markdown",
   "metadata": {},
   "source": [
    "---\n",
    "## Building the Model"
   ]
  },
  {
   "cell_type": "markdown",
   "metadata": {},
   "source": [
    "We build an MLP and choose the values of $h^1$ and $h^2$ such that the total number of parameters (including biases) falls within the range of $I = [0.5M, 1.0M]$. This can be achieved by choosing $h^1 = h^2 = 512$. Since MNIST samples are $28 \\times 28 = 784$ pixels, the total number of parameters is"
   ]
  },
  {
   "cell_type": "code",
   "execution_count": null,
   "metadata": {},
   "outputs": [],
   "source": [
    "num_params = (28*28)*512 + 512*512 + 512*10\n",
    "print(num_params)"
   ]
  },
  {
   "cell_type": "markdown",
   "metadata": {},
   "source": [
    "which is within range. We thus build the MLP with the parameters below."
   ]
  },
  {
   "cell_type": "code",
   "execution_count": 2,
   "metadata": {},
   "outputs": [],
   "source": [
    "# Initialize parameters\n",
    "layers = [784, 512, 512, 10]\n",
    "learning_rate = 1e-2\n",
    "batch_size = 64\n",
    "data_filename = \"../data/mnist/mnist.pkl\""
   ]
  },
  {
   "cell_type": "markdown",
   "metadata": {},
   "source": [
    "We now load the tensors via Torch data loaders."
   ]
  },
  {
   "cell_type": "code",
   "execution_count": 3,
   "metadata": {},
   "outputs": [],
   "source": [
    "train_loader, valid_loader, test_loader = get_data_loaders(data_filename, batch_size)"
   ]
  },
  {
   "cell_type": "markdown",
   "metadata": {},
   "source": [
    "---\n",
    "## Initialization"
   ]
  },
  {
   "cell_type": "markdown",
   "metadata": {},
   "source": [
    "Hardcoded parameters used for all three initilization schemes are:\n",
    "* **Activation functions:** Rectified linear unit (ReLU)\n",
    "* **Loss function:** Cross entropy\n",
    "* **Optimizer:** Stochastic gradient descent (SGD) with learning rate `learning_rate`\n",
    "\n",
    "For each initialization scheme, we compile the model and train by keeping track of the average loss. After training, we plot the result."
   ]
  },
  {
   "cell_type": "markdown",
   "metadata": {},
   "source": [
    "### Zeros"
   ]
  },
  {
   "cell_type": "code",
   "execution_count": null,
   "metadata": {},
   "outputs": [],
   "source": [
    "# Compile and train model\n",
    "mlp_z = MNIST(layers, learning_rate, \"zeros\")\n",
    "zeros_losses = mlp_z.train(2, train_loader, [], [], len(train_loader.dataset))[0]"
   ]
  },
  {
   "cell_type": "code",
   "execution_count": null,
   "metadata": {},
   "outputs": [],
   "source": [
    "# Plot avg loss / epoch\n",
    "%matplotlib inline\n",
    "plot_per_epoch(zeros_losses, \"Avg loss\", \"Training with zeros initialization\")"
   ]
  },
  {
   "cell_type": "markdown",
   "metadata": {},
   "source": [
    "### Normal"
   ]
  },
  {
   "cell_type": "code",
   "execution_count": null,
   "metadata": {},
   "outputs": [],
   "source": [
    "# Compile and train model\n",
    "mlp_n = MNIST(layers, learning_rate, \"normal\")\n",
    "normal_losses = mlp_n.train(1, train_loader, [], [], len(train_loader.dataset))[0]"
   ]
  },
  {
   "cell_type": "code",
   "execution_count": null,
   "metadata": {},
   "outputs": [],
   "source": [
    "# Plot avg loss / epoch\n",
    "%matplotlib inline\n",
    "plot_per_epoch(normal_losses, \"Avg loss\", \"Training with Normal(0,1) initialization\")"
   ]
  },
  {
   "cell_type": "markdown",
   "metadata": {},
   "source": [
    "### Glorot"
   ]
  },
  {
   "cell_type": "code",
   "execution_count": null,
   "metadata": {},
   "outputs": [],
   "source": [
    "# Compile and train model\n",
    "mlp_g = MNIST(layers, learning_rate, \"glorot\")\n",
    "glorot_losses = mlp_g.train(3, train_loader, [], [], len(train_loader.dataset))[0]"
   ]
  },
  {
   "cell_type": "code",
   "execution_count": null,
   "metadata": {},
   "outputs": [],
   "source": [
    "# Plot avg loss / epoch\n",
    "%matplotlib inline\n",
    "plot_per_epoch(glorot_losses, \"Avg loss\", \"Training with Glorot initialization\")"
   ]
  },
  {
   "cell_type": "markdown",
   "metadata": {},
   "source": [
    "---\n",
    "## Learning Curves"
   ]
  },
  {
   "cell_type": "code",
   "execution_count": null,
   "metadata": {},
   "outputs": [],
   "source": [
    "mlp = MNIST(layers, learning_rate, \"glorot\")\n",
    "_, train_acc, valid_acc, _ = mlp.train(1, train_loader, valid_loader, [], len(train_loader.dataset))"
   ]
  },
  {
   "cell_type": "code",
   "execution_count": null,
   "metadata": {},
   "outputs": [],
   "source": [
    "# Plot training and test accuracy / epoch\n",
    "%matplotlib inline\n",
    "plots_per_epoch([train_acc, valid_acc], [\"Train\", \"Test\"], \"Avg Loss\", \"Average loss per epoch\")"
   ]
  },
  {
   "cell_type": "markdown",
   "metadata": {},
   "source": [
    "We now train by doubling the model capacity. This is done by doubling the number of neurons at the first layer."
   ]
  },
  {
   "cell_type": "code",
   "execution_count": null,
   "metadata": {},
   "outputs": [],
   "source": [
    "num_params = (28*28)*2*512 + 2*512*512 + 512*10\n",
    "print(num_params)"
   ]
  },
  {
   "cell_type": "code",
   "execution_count": null,
   "metadata": {},
   "outputs": [],
   "source": [
    "layers_2 = [784, 2*512, 512, 10]\n",
    "mlp_2 = MNIST(layers_2, learning_rate, \"glorot\")\n",
    "train_acc_2, _, valid_acc_2, _ = mlp_2.train(1, train_loader, valid_loader, [], len(train_loader.dataset))"
   ]
  },
  {
   "cell_type": "code",
   "execution_count": null,
   "metadata": {},
   "outputs": [],
   "source": [
    "# Plot training and test accuracy / epoch\n",
    "%matplotlib inline\n",
    "plots_per_epoch([train_acc_2, valid_acc_2], [\"Train\", \"Test\"], \"Avg Loss\", \"Average loss per epoch (doubled capacity)\")"
   ]
  },
  {
   "cell_type": "markdown",
   "metadata": {},
   "source": [
    "---\n",
    "## Training Set Size, Generalization Gap, and Standard Error"
   ]
  },
  {
   "cell_type": "markdown",
   "metadata": {},
   "source": [
    "For each ratio $a \\in \\{0.01, 0.02, 0.05, 0.1, 1.0\\}$, we reduce the training set to $N_a = aN$ samples, where $N= 50\\,000$. We then train using this new dataset."
   ]
  },
  {
   "cell_type": "code",
   "execution_count": 4,
   "metadata": {},
   "outputs": [
    {
     "name": "stdout",
     "output_type": "stream",
     "text": [
      "==============================\n",
      "a = 0.01, Na = 500\n",
      "------------------------------\n",
      "Iter 1\n",
      "Epoch 1/1\n",
      "Avg loss: 2.3368 -- Train acc: 0.1250 -- Val acc: 0.1203 -- Test acc: 0.1228 -- Gen gap 0.0022\n",
      "Training done! Elapsed time: 0:00:00\n",
      "\n",
      "Iter 2\n",
      "Epoch 1/1\n",
      "Avg loss: 2.2491 -- Train acc: 0.2188 -- Val acc: 0.1976 -- Test acc: 0.1970 -- Gen gap 0.0218\n",
      "Training done! Elapsed time: 0:00:00\n",
      "\n",
      "Iter 3\n",
      "Epoch 1/1\n",
      "Avg loss: 2.2020 -- Train acc: 0.3320 -- Val acc: 0.2983 -- Test acc: 0.3043 -- Gen gap 0.0277\n",
      "Training done! Elapsed time: 0:00:00\n",
      "\n",
      "==============================\n",
      "a = 0.02, Na = 1000\n",
      "------------------------------\n",
      "Iter 1\n",
      "Epoch 1/1\n",
      "Avg loss: 2.1075 -- Train acc: 0.5195 -- Val acc: 0.5298 -- Test acc: 0.5342 -- Gen gap -0.0147\n",
      "Training done! Elapsed time: 0:00:00\n",
      "\n",
      "Iter 2\n",
      "Epoch 1/1\n",
      "Avg loss: 1.9974 -- Train acc: 0.6211 -- Val acc: 0.6359 -- Test acc: 0.6322 -- Gen gap -0.0111\n",
      "Training done! Elapsed time: 0:00:00\n",
      "\n",
      "Iter 3\n",
      "Epoch 1/1\n",
      "Avg loss: 1.8960 -- Train acc: 0.6465 -- Val acc: 0.6834 -- Test acc: 0.6691 -- Gen gap -0.0226\n",
      "Training done! Elapsed time: 0:00:00\n",
      "\n",
      "==============================\n",
      "a = 0.05, Na = 2500\n",
      "------------------------------\n",
      "Iter 1\n",
      "Epoch 1/1\n",
      "Avg loss: 1.6700 -- Train acc: 0.7000 -- Val acc: 0.7200 -- Test acc: 0.7022 -- Gen gap -0.0022\n",
      "Training done! Elapsed time: 0:00:00\n",
      "\n",
      "Iter 2\n",
      "Epoch 1/1\n",
      "Avg loss: 1.3993 -- Train acc: 0.7230 -- Val acc: 0.7581 -- Test acc: 0.7367 -- Gen gap -0.0136\n",
      "Training done! Elapsed time: 0:00:00\n",
      "\n",
      "Iter 3\n",
      "Epoch 1/1\n",
      "Avg loss: 1.1688 -- Train acc: 0.7723 -- Val acc: 0.8027 -- Test acc: 0.7875 -- Gen gap -0.0153\n",
      "Training done! Elapsed time: 0:00:00\n",
      "\n",
      "==============================\n",
      "a = 0.10, Na = 5000\n",
      "------------------------------\n",
      "Iter 1\n",
      "Epoch 1/1\n",
      "Avg loss: 0.9254 -- Train acc: 0.8258 -- Val acc: 0.8417 -- Test acc: 0.8277 -- Gen gap -0.0020\n",
      "Training done! Elapsed time: 0:00:01\n",
      "\n",
      "Iter 2\n",
      "Epoch 1/1\n",
      "Avg loss: 0.7587 -- Train acc: 0.8242 -- Val acc: 0.8606 -- Test acc: 0.8481 -- Gen gap -0.0240\n",
      "Training done! Elapsed time: 0:00:01\n",
      "\n",
      "Iter 3\n",
      "Epoch 1/1\n",
      "Avg loss: 0.6244 -- Train acc: 0.8441 -- Val acc: 0.8709 -- Test acc: 0.8613 -- Gen gap -0.0171\n",
      "Training done! Elapsed time: 0:00:01\n",
      "\n",
      "==============================\n",
      "a = 1.00, Na = 50000\n",
      "------------------------------\n",
      "Iter 1\n",
      "Epoch 1/1\n",
      "Avg loss: 0.4359 -- Train acc: 0.9006 -- Val acc: 0.9039 -- Test acc: 0.9039 -- Gen gap -0.0032\n",
      "Training done! Elapsed time: 0:00:06\n",
      "\n",
      "Iter 2\n",
      "Epoch 1/1\n",
      "Avg loss: 0.3271 -- Train acc: 0.9149 -- Val acc: 0.9166 -- Test acc: 0.9154 -- Gen gap -0.0005\n",
      "Training done! Elapsed time: 0:00:06\n",
      "\n",
      "Iter 3\n",
      "Epoch 1/1\n",
      "Avg loss: 0.2843 -- Train acc: 0.9234 -- Val acc: 0.9246 -- Test acc: 0.9238 -- Gen gap -0.0003\n",
      "Training done! Elapsed time: 0:00:06\n",
      "\n"
     ]
    }
   ],
   "source": [
    "# Initialize best model so far\n",
    "mlp = MNIST(layers, learning_rate, \"glorot\")\n",
    "ratios = [0.01, 0.02, 0.05, 0.1, 1.0]\n",
    "nb_epochs = 1\n",
    "nb_trials = 3\n",
    "\n",
    "# Generalization gaps\n",
    "Ga = np.zeros((len(ratios), nb_trials, nb_epochs))\n",
    "             \n",
    "for i, a in enumerate(ratios):\n",
    "    length = int(a * len(train_loader.dataset))\n",
    "    print(\"%s\\na = %.2f, Na = %d\\n%s\" % (\"=\"*30, a, length, \"-\"*30))\n",
    "    \n",
    "    for j in range(nb_trials):\n",
    "        print(\"Iter %s\" % str(j + 1))\n",
    "        # Subsample from training set\n",
    "        Na, sub_train_loader = subsample_train(a, train_loader, batch_size)\n",
    "    \n",
    "        # Train\n",
    "        train_loss, train_acc, valid_acc, test_acc = \\\n",
    "            mlp.train(nb_epochs, sub_train_loader, valid_loader, test_loader, Na, gen_gap=True)\n",
    "            \n",
    "        # Get best validation epoch\n",
    "        best_valid = max(valid_acc)\n",
    "        max_valid_idx = valid_acc.index(best_valid)\n",
    "        \n",
    "        # Save generalization gap\n",
    "        Ga[i,j] = train_acc[max_valid_idx] - test_acc[max_valid_idx]"
   ]
  },
  {
   "cell_type": "code",
   "execution_count": 5,
   "metadata": {},
   "outputs": [
    {
     "data": {
      "image/png": "[encoded data removed]",
      "text/plain": [
       "<matplotlib.figure.Figure at 0x10a9afcf8>"
      ]
     },
     "metadata": {},
     "output_type": "display_data"
    }
   ],
   "source": [
    "means, stds = Ga.mean(1), Ga.std(1)\n",
    "labels = [\"0.01\",\"0.02\",\"0.05\",\"0.1\",\"1.\"]\n",
    "plot_error_bars(labels, means, stds, \"Ratios\", \"Avg generalization gap\",\n",
    "    \"Average generalization gap for different training set ratios\")"
   ]
  },
  {
   "cell_type": "code",
   "execution_count": null,
   "metadata": {},
   "outputs": [],
   "source": []
  }
 ],
 "metadata": {
  "kernelspec": {
   "display_name": "Python 2",
   "language": "python",
   "name": "python2"
  },
  "language_info": {
   "codemirror_mode": {
    "name": "ipython",
    "version": 2
   },
   "file_extension": ".py",
   "mimetype": "text/x-python",
   "name": "python",
   "nbconvert_exporter": "python",
   "pygments_lexer": "ipython2",
   "version": "2.7.12"
  }
 },
 "nbformat": 4,
 "nbformat_minor": 2
}
