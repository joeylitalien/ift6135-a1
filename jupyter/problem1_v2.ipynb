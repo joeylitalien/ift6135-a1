{
 "cells": [
  {
   "cell_type": "markdown",
   "metadata": {},
   "source": [
    "# Problem 1: MNIST"
   ]
  },
  {
   "cell_type": "markdown",
   "metadata": {},
   "source": [
    "The code for this multilayer perceptron can be found in `mnist.py`. The module `utils.py` contains helper functions to load the dataset, display progress bar, plot graphs, etc."
   ]
  },
  {
   "cell_type": "code",
   "execution_count": 2,
   "metadata": {},
   "outputs": [],
   "source": [
    "import sys\n",
    "sys.path.append('../src/')\n",
    "from mnist_v2 import *"
   ]
  },
  {
   "cell_type": "markdown",
   "metadata": {},
   "source": [
    "---\n",
    "## Building the Model"
   ]
  },
  {
   "cell_type": "markdown",
   "metadata": {},
   "source": [
    "We build an MLP and choose the values of $h^1$ and $h^2$ such that the total number of parameters (including biases) falls within the range of $I = [0.5M, 1.0M]$. This can be achieved by choosing $h^1 = h^2 = 512$. Since MNIST samples are $28 \\times 28 = 784$ pixels, the total number of parameters is"
   ]
  },
  {
   "cell_type": "code",
   "execution_count": null,
   "metadata": {},
   "outputs": [],
   "source": [
    "num_params = (28*28)*512 + 512*512 + 512*10\n",
    "print(num_params)"
   ]
  },
  {
   "cell_type": "markdown",
   "metadata": {},
   "source": [
    "which is within range. We thus build the MLP with the parameters below."
   ]
  },
  {
   "cell_type": "code",
   "execution_count": 3,
   "metadata": {},
   "outputs": [],
   "source": [
    "# Initialize parameters\n",
    "layers = [784, 512, 512, 10]\n",
    "learning_rate = 1e-2\n",
    "batch_size = 64\n",
    "data_filename = \"../data/mnist/mnist.pkl\""
   ]
  },
  {
   "cell_type": "markdown",
   "metadata": {},
   "source": [
    "We now load the tensors via Torch data loaders."
   ]
  },
  {
   "cell_type": "code",
   "execution_count": 4,
   "metadata": {},
   "outputs": [],
   "source": [
    "train_loader, valid_loader, test_loader = get_data_loaders(data_filename, batch_size)"
   ]
  },
  {
   "cell_type": "markdown",
   "metadata": {},
   "source": [
    "---\n",
    "## Initialization"
   ]
  },
  {
   "cell_type": "markdown",
   "metadata": {},
   "source": [
    "Hardcoded parameters used for all three initilization schemes are:\n",
    "* **Activation functions:** Rectified linear unit (ReLU)\n",
    "* **Loss function:** Cross entropy\n",
    "* **Optimizer:** Stochastic gradient descent (SGD) with learning rate `learning_rate`\n",
    "\n",
    "For each initialization scheme, we compile the model and train by keeping track of the average loss. After training, we plot the result."
   ]
  },
  {
   "cell_type": "markdown",
   "metadata": {},
   "source": [
    "### Zeros"
   ]
  },
  {
   "cell_type": "code",
   "execution_count": 5,
   "metadata": {},
   "outputs": [
    {
     "name": "stdout",
     "output_type": "stream",
     "text": [
      "Epoch 1/2\n",
      "Avg loss: 2.3019 -- Train acc: 0.1135% \n",
      "Epoch 2/2\n",
      "Avg loss: 2.3012 -- Train acc: 0.1135% \n",
      "Training done! Elapsed time: 0:00:12\n",
      "\n"
     ]
    }
   ],
   "source": [
    "# Compile and train model\n",
    "mlp_z = MNIST(layers, learning_rate, \"zeros\")\n",
    "zeros_losses = mlp_z.train(2, train_loader, [], [], len(train_loader.dataset))[0]"
   ]
  },
  {
   "cell_type": "code",
   "execution_count": 6,
   "metadata": {},
   "outputs": [
    {
     "data": {
      "image/png": "[encoded data removed]",
      "text/plain": [
       "<matplotlib.figure.Figure at 0x10ab1bdd8>"
      ]
     },
     "metadata": {},
     "output_type": "display_data"
    }
   ],
   "source": [
    "# Plot avg loss / epoch\n",
    "%matplotlib inline\n",
    "plot_per_epoch(zeros_losses, \"Avg loss\", \"Training with zeros initialization\")"
   ]
  },
  {
   "cell_type": "markdown",
   "metadata": {},
   "source": [
    "### Normal"
   ]
  },
  {
   "cell_type": "code",
   "execution_count": 5,
   "metadata": {},
   "outputs": [
    {
     "name": "stdout",
     "output_type": "stream",
     "text": [
      "Epoch 1/1\n",
      "Avg loss: 99.3026 -- Train acc: 0.9392 \n",
      "Training done! Elapsed time: 0:00:06\n",
      "\n"
     ]
    }
   ],
   "source": [
    "# Compile and train model\n",
    "mlp_n = MNIST(layers, learning_rate, \"normal\")\n",
    "normal_losses = mlp_n.train(1, train_loader, [], [], len(train_loader.dataset))[0]"
   ]
  },
  {
   "cell_type": "code",
   "execution_count": 7,
   "metadata": {},
   "outputs": [
    {
     "data": {
      "image/png": "[encoded data removed]",
      "text/plain": [
       "<matplotlib.figure.Figure at 0x10a2bd668>"
      ]
     },
     "metadata": {},
     "output_type": "display_data"
    }
   ],
   "source": [
    "# Plot avg loss / epoch\n",
    "%matplotlib inline\n",
    "plot_per_epoch(normal_losses, \"Avg loss\", \"Training with Normal(0,1) initialization\")"
   ]
  },
  {
   "cell_type": "markdown",
   "metadata": {},
   "source": [
    "### Glorot"
   ]
  },
  {
   "cell_type": "code",
   "execution_count": 19,
   "metadata": {},
   "outputs": [
    {
     "name": "stdout",
     "output_type": "stream",
     "text": [
      "Epoch 1/3\n",
      "Avg loss: 0.8777 -- Train acc: 0.8801% \n",
      "Epoch 2/3\n",
      "Avg loss: 0.3686 -- Train acc: 0.9060% \n",
      "Epoch 3/3\n",
      "Avg loss: 0.3056 -- Train acc: 0.9186% \n",
      "Training done! Elapsed time: 0:00:18\n",
      "\n"
     ]
    }
   ],
   "source": [
    "# Compile and train model\n",
    "mlp_g = MNIST(layers, learning_rate, \"glorot\")\n",
    "glorot_losses = mlp_g.train(3, train_loader, [], [], len(train_loader.dataset))[0]"
   ]
  },
  {
   "cell_type": "code",
   "execution_count": 20,
   "metadata": {},
   "outputs": [
    {
     "data": {
      "image/png": "[encoded data removed]",
      "text/plain": [
       "<matplotlib.figure.Figure at 0x11bce1390>"
      ]
     },
     "metadata": {},
     "output_type": "display_data"
    }
   ],
   "source": [
    "# Plot avg loss / epoch\n",
    "%matplotlib inline\n",
    "plot_per_epoch(glorot_losses, \"Avg loss\", \"Training with Glorot initialization\")"
   ]
  },
  {
   "cell_type": "markdown",
   "metadata": {},
   "source": [
    "---\n",
    "## Learning Curves"
   ]
  },
  {
   "cell_type": "code",
   "execution_count": 11,
   "metadata": {},
   "outputs": [
    {
     "name": "stdout",
     "output_type": "stream",
     "text": [
      "Epoch 1/1\n",
      "Avg loss: 0.8607 -- Train acc: 0.8847 -- Val acc: 0.8935\n",
      "Training done! Elapsed time: 0:00:06\n",
      "\n"
     ]
    }
   ],
   "source": [
    "mlp = MNIST(layers, learning_rate, \"glorot\")\n",
    "_, train_acc, valid_acc, _ = mlp.train(1, train_loader, valid_loader, [], len(train_loader.dataset))"
   ]
  },
  {
   "cell_type": "code",
   "execution_count": 15,
   "metadata": {},
   "outputs": [
    {
     "data": {
      "image/png": "[encoded data removed]",
      "text/plain": [
       "<matplotlib.figure.Figure at 0x1138fa550>"
      ]
     },
     "metadata": {},
     "output_type": "display_data"
    }
   ],
   "source": [
    "# Plot training and test accuracy / epoch\n",
    "plots_per_epoch([train_acc, valid_acc], [\"Train\", \"Test\"], \"Avg Loss\", \"Average loss per epoch\")"
   ]
  },
  {
   "cell_type": "markdown",
   "metadata": {},
   "source": [
    "We now train by doubling the model capacity. This is done by doubling the number of neurons at each layer."
   ]
  },
  {
   "cell_type": "code",
   "execution_count": null,
   "metadata": {},
   "outputs": [],
   "source": [
    "num_params = (28*28)*2*512 + 2*512*512 + 512*10\n",
    "print(num_params)"
   ]
  },
  {
   "cell_type": "code",
   "execution_count": 12,
   "metadata": {},
   "outputs": [
    {
     "name": "stdout",
     "output_type": "stream",
     "text": [
      "Epoch 1/1\n",
      "Avg loss: 0.8248 -- Train acc: 0.8886 -- Val acc: 0.8973\n",
      "Training done! Elapsed time: 0:00:13\n",
      "\n"
     ]
    }
   ],
   "source": [
    "layers_2 = [784, 2*512, 2*512, 10]\n",
    "mlp_2 = MNIST(layers_2, learning_rate, \"glorot\")\n",
    "train_acc_2, _, valid_acc_2, _ = mlp_2.train(1, train_loader, valid_loader, [], len(train_loader.dataset))"
   ]
  },
  {
   "cell_type": "code",
   "execution_count": 14,
   "metadata": {},
   "outputs": [
    {
     "data": {
      "image/png": "[encoded data removed]",
      "text/plain": [
       "<matplotlib.figure.Figure at 0x11be154a8>"
      ]
     },
     "metadata": {},
     "output_type": "display_data"
    }
   ],
   "source": [
    "# Plot training and test accuracy / epoch\n",
    "plots_per_epoch([train_acc_2, valid_acc_2], [\"Train\", \"Test\"], \"Avg Loss\", \"Average loss per epoch (doubled capacity)\")"
   ]
  },
  {
   "cell_type": "markdown",
   "metadata": {},
   "source": [
    "---\n",
    "## Training Set Size, Generalization Gap, and Standard Error"
   ]
  },
  {
   "cell_type": "markdown",
   "metadata": {},
   "source": [
    "For each ratio $a \\in \\{0.01, 0.02, 0.05, 0.1, 1.0\\}$, we reduce the training set to $N_a = aN$ samples, where $N= 50\\,000$. We then train using this new dataset."
   ]
  },
  {
   "cell_type": "code",
   "execution_count": 18,
   "metadata": {},
   "outputs": [
    {
     "name": "stdout",
     "output_type": "stream",
     "text": [
      "==============================\n",
      "a = 0.01, Na = 500\n",
      "------------------------------\n",
      "Iter 1\n",
      "Epoch 1/1\n",
      "Avg loss: 2.3068 -- Train acc: 0.1406 -- Val acc: 0.1357 -- Test acc: 0.1259 -- Gen gap 0.0147\n",
      "Training done! Elapsed time: 0:00:00\n",
      "\n",
      "Iter 2\n",
      "Epoch 1/1\n",
      "Avg loss: 2.2417 -- Train acc: 0.2773 -- Val acc: 0.2367 -- Test acc: 0.2275 -- Gen gap 0.0498\n",
      "Training done! Elapsed time: 0:00:00\n",
      "\n",
      "Iter 3\n",
      "Epoch 1/1\n",
      "Avg loss: 2.1908 -- Train acc: 0.3340 -- Val acc: 0.3134 -- Test acc: 0.3058 -- Gen gap 0.0282\n",
      "Training done! Elapsed time: 0:00:00\n",
      "\n",
      "==============================\n",
      "a = 0.02, Na = 1000\n",
      "------------------------------\n",
      "Iter 1\n",
      "Epoch 1/1\n",
      "Avg loss: 2.1064 -- Train acc: 0.4736 -- Val acc: 0.5063 -- Test acc: 0.4858 -- Gen gap -0.0121\n",
      "Training done! Elapsed time: 0:00:00\n",
      "\n",
      "Iter 2\n",
      "Epoch 1/1\n",
      "Avg loss: 1.9937 -- Train acc: 0.5850 -- Val acc: 0.6057 -- Test acc: 0.5785 -- Gen gap 0.0064\n",
      "Training done! Elapsed time: 0:00:00\n",
      "\n",
      "Iter 3\n",
      "Epoch 1/1\n",
      "Avg loss: 1.8756 -- Train acc: 0.6924 -- Val acc: 0.7055 -- Test acc: 0.6843 -- Gen gap 0.0081\n",
      "Training done! Elapsed time: 0:00:00\n",
      "\n",
      "==============================\n",
      "a = 0.05, Na = 2500\n",
      "------------------------------\n",
      "Iter 1\n",
      "Epoch 1/1\n",
      "Avg loss: 1.6736 -- Train acc: 0.7043 -- Val acc: 0.7432 -- Test acc: 0.7288 -- Gen gap -0.0245\n",
      "Training done! Elapsed time: 0:00:00\n",
      "\n",
      "Iter 2\n",
      "Epoch 1/1\n",
      "Avg loss: 1.4415 -- Train acc: 0.7141 -- Val acc: 0.7721 -- Test acc: 0.7545 -- Gen gap -0.0404\n",
      "Training done! Elapsed time: 0:00:00\n",
      "\n",
      "Iter 3\n",
      "Epoch 1/1\n",
      "Avg loss: 1.2235 -- Train acc: 0.7793 -- Val acc: 0.8347 -- Test acc: 0.8166 -- Gen gap -0.0373\n",
      "Training done! Elapsed time: 0:00:00\n",
      "\n",
      "==============================\n",
      "a = 0.10, Na = 5000\n",
      "------------------------------\n",
      "Iter 1\n",
      "Epoch 1/1\n",
      "Avg loss: 0.9411 -- Train acc: 0.8139 -- Val acc: 0.8417 -- Test acc: 0.8280 -- Gen gap -0.0141\n",
      "Training done! Elapsed time: 0:00:01\n",
      "\n",
      "Iter 2\n",
      "Epoch 1/1\n",
      "Avg loss: 0.7392 -- Train acc: 0.8414 -- Val acc: 0.8633 -- Test acc: 0.8533 -- Gen gap -0.0119\n",
      "Training done! Elapsed time: 0:00:01\n",
      "\n",
      "Iter 3\n",
      "Epoch 1/1\n",
      "Avg loss: 0.6322 -- Train acc: 0.8525 -- Val acc: 0.8722 -- Test acc: 0.8664 -- Gen gap -0.0140\n",
      "Training done! Elapsed time: 0:00:01\n",
      "\n",
      "==============================\n",
      "a = 1.00, Na = 50000\n",
      "------------------------------\n",
      "Iter 1\n",
      "Epoch 1/1\n",
      "Avg loss: 0.4359 -- Train acc: 0.8979 -- Val acc: 0.9054 -- Test acc: 0.8989 -- Gen gap -0.0010\n",
      "Training done! Elapsed time: 0:00:06\n",
      "\n",
      "Iter 2\n",
      "Epoch 1/1\n",
      "Avg loss: 0.3295 -- Train acc: 0.9132 -- Val acc: 0.9168 -- Test acc: 0.9146 -- Gen gap -0.0014\n",
      "Training done! Elapsed time: 0:00:06\n",
      "\n",
      "Iter 3\n",
      "Epoch 1/1\n",
      "Avg loss: 0.2878 -- Train acc: 0.9222 -- Val acc: 0.9243 -- Test acc: 0.9233 -- Gen gap -0.0011\n",
      "Training done! Elapsed time: 0:00:06\n",
      "\n"
     ]
    }
   ],
   "source": [
    "# Initialize best model so far\n",
    "mlp = MNIST(layers, learning_rate, \"glorot\")\n",
    "ratios = [0.01, 0.02, 0.05, 0.1, 1.0]\n",
    "nb_epochs = 1\n",
    "nb_trials = 3\n",
    "\n",
    "# Generalization gaps\n",
    "Ga = np.zeros((len(ratios), nb_trials, nb_epochs))\n",
    "             \n",
    "for i, a in enumerate(ratios):\n",
    "    length = int(a * len(train_loader.dataset))\n",
    "    print(\"%s\\na = %.2f, Na = %d\\n%s\" % (\"=\"*30, a, length, \"-\"*30))\n",
    "    \n",
    "    for j in range(nb_trials):\n",
    "        print(\"Iter %s\" % str(j + 1))\n",
    "        # Subsample from training set\n",
    "        Na, sub_train_loader = subsample_train(a, train_loader, batch_size)\n",
    "    \n",
    "        # Train\n",
    "        train_loss, train_acc, valid_acc, test_acc = \\\n",
    "            mlp.train(nb_epochs, sub_train_loader, valid_loader, test_loader, Na, gen_gap=True)\n",
    "        \n",
    "        # Save generalization gap\n",
    "        Ga[i,j,:] = [r_train - r_test for r_train, r_test in zip(train_acc, test_acc)]"
   ]
  },
  {
   "cell_type": "code",
   "execution_count": null,
   "metadata": {},
   "outputs": [],
   "source": []
  }
 ],
 "metadata": {
  "kernelspec": {
   "display_name": "Python 3",
   "language": "python",
   "name": "python3"
  },
  "language_info": {
   "codemirror_mode": {
    "name": "ipython",
    "version": 3
   },
   "file_extension": ".py",
   "mimetype": "text/x-python",
   "name": "python",
   "nbconvert_exporter": "python",
   "pygments_lexer": "ipython3",
   "version": "3.6.3"
  }
 },
 "nbformat": 4,
 "nbformat_minor": 2
}
