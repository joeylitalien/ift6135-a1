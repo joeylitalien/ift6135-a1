{
 "cells": [
  {
   "cell_type": "markdown",
   "metadata": {},
   "source": [
    "# Problem 2: Newsgroups"
   ]
  },
  {
   "cell_type": "markdown",
   "metadata": {},
   "source": [
    "The code for this multilayer perceptron can be found in `newsgroups.py`. The module `utils.py` contains helper functions to load the dataset, display progress bar, plot graphs, etc."
   ]
  },
  {
   "cell_type": "code",
   "execution_count": 1,
   "metadata": {},
   "outputs": [],
   "source": [
    "import sys\n",
    "sys.path.append('../src/')\n",
    "from newsgroups_v2 import *"
   ]
  },
  {
   "cell_type": "markdown",
   "metadata": {},
   "source": [
    "---\n",
    "## Building the Model"
   ]
  },
  {
   "cell_type": "markdown",
   "metadata": {},
   "source": [
    "We initialize the parameters of the single-layer MLP."
   ]
  },
  {
   "cell_type": "code",
   "execution_count": 2,
   "metadata": {},
   "outputs": [],
   "source": [
    "# Model parameters\n",
    "batch_size = 64\n",
    "layers = [61188, 100, 20]\n",
    "learning_rate = 0.2\n",
    "momentum = 0.9\n",
    "epsilon = 1e-5\n",
    "train_filename = \"../data/newsgroups/matlab/train\"\n",
    "test_filename = \"../data/newsgroups/matlab/test\"\n",
    "saved = \"../data/newsgroups/saved/\"\n",
    "train_size = 11269\n",
    "test_size = 7505"
   ]
  },
  {
   "cell_type": "markdown",
   "metadata": {},
   "source": [
    "We now load the data into Torch tensors."
   ]
  },
  {
   "cell_type": "code",
   "execution_count": 4,
   "metadata": {},
   "outputs": [],
   "source": [
    "# Load .data and .label files -- Uncomment if running for first time\n",
    "train_data, train_tfidf, test_data, test_tfidf = load_newsgroups(\n",
    "    train_filename, test_filename, layers[0], train_size, test_size)\n",
    "\n",
    "# Load pre-parsed and saved tensors\n",
    "#train_data = torch.load(saved + \"train_data.pt\")\n",
    "#train_tfidf = torch.load(saved + \"train_tfidf.pt\")\n",
    "#test_data = torch.load(saved + \"test_data.pt\")\n",
    "#test_tfidf = torch.load(saved + \"test_tfidf.pt\")"
   ]
  },
  {
   "cell_type": "markdown",
   "metadata": {},
   "source": [
    "### No Preprocessing"
   ]
  },
  {
   "cell_type": "code",
   "execution_count": null,
   "metadata": {},
   "outputs": [],
   "source": [
    "# Create Torch data loaders\n",
    "train_loader_n = DataLoader(train_data, batch_size=batch_size)\n",
    "test_loader_n = DataLoader(test_data, batch_size=batch_size)\n",
    "\n",
    "# Build and train model\n",
    "mlp_n = Newsgroups(layers, learning_rate, momentum)\n",
    "mlp_n.train(1, train_loader, test_loader, len(train_loader.dataset))"
   ]
  },
  {
   "cell_type": "markdown",
   "metadata": {},
   "source": [
    "### TF-IDF"
   ]
  },
  {
   "cell_type": "code",
   "execution_count": null,
   "metadata": {},
   "outputs": [],
   "source": [
    "# Preprocess and create Torch data loaders\n",
    "train_loader_t = DataLoader(train_idf, batch_size=batch_size)\n",
    "test_loader_t = DataLoader(test_idf, batch_size=batch_size)\n",
    "\n",
    "# Build and train model\n",
    "mlp_t = Newsgroups(layers, learning_rate, momentum)\n",
    "mlp_t.train(1, train_loader_t, test_loader_t, len(train_loader_t.dataset))"
   ]
  },
  {
   "cell_type": "markdown",
   "metadata": {},
   "source": [
    "### Standardization"
   ]
  },
  {
   "cell_type": "code",
   "execution_count": null,
   "metadata": {},
   "outputs": [],
   "source": [
    "# Preprocess and create Torch data loaders\n",
    "train_data_s, test_data_s = standardize(train_data, test_data)\n",
    "train_loader_s = DataLoader(train_data_s, batch_size=batch_size)\n",
    "test_loader_s = DataLoader(test_data_s, batch_size=batch_size)\n",
    "\n",
    "# Build and train model\n",
    "mlp_s = Newsgroups(layers, learning_rate, momentum)\n",
    "mlp_s.train(1, train_loader_s, test_loader_s, len(train_loader_s.dataset))"
   ]
  },
  {
   "cell_type": "markdown",
   "metadata": {},
   "source": [
    "---\n",
    "## Variance in training"
   ]
  },
  {
   "cell_type": "code",
   "execution_count": null,
   "metadata": {},
   "outputs": [],
   "source": []
  }
 ],
 "metadata": {
  "kernelspec": {
   "display_name": "Python 3",
   "language": "python",
   "name": "python3"
  },
  "language_info": {
   "codemirror_mode": {
    "name": "ipython",
    "version": 3
   },
   "file_extension": ".py",
   "mimetype": "text/x-python",
   "name": "python",
   "nbconvert_exporter": "python",
   "pygments_lexer": "ipython3",
   "version": "3.6.3"
  }
 },
 "nbformat": 4,
 "nbformat_minor": 2
}
