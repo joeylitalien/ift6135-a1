{
 "cells": [
  {
   "cell_type": "markdown",
   "metadata": {},
   "source": [
    "# Problem 2: Newsgroups"
   ]
  },
  {
   "cell_type": "markdown",
   "metadata": {},
   "source": [
    "The code for this single-layer perceptron can be found in `newsgroups.py`. The module `utils.py` contains helper functions to load the dataset, display progress bar, plot graphs, etc."
   ]
  },
  {
   "cell_type": "code",
   "execution_count": 1,
   "metadata": {},
   "outputs": [],
   "source": [
    "import sys\n",
    "sys.path.append('../src/')\n",
    "from newsgroups_v2 import *"
   ]
  },
  {
   "cell_type": "markdown",
   "metadata": {},
   "source": [
    "---\n",
    "## Building the Model"
   ]
  },
  {
   "cell_type": "markdown",
   "metadata": {},
   "source": [
    "We initialize the parameters of the single-layer MLP."
   ]
  },
  {
   "cell_type": "code",
   "execution_count": 2,
   "metadata": {},
   "outputs": [],
   "source": [
    "# Model parameters\n",
    "batch_size = 64\n",
    "layers = [61188, 100, 20]\n",
    "learning_rate = 1e-4\n",
    "momentum = 0.9\n",
    "eps = 1e-5\n",
    "train_filename = \"../data/newsgroups/matlab/train\"\n",
    "test_filename = \"../data/newsgroups/matlab/test\"\n",
    "saved = \"../data/newsgroups/saved/\"\n",
    "train_size = 11269\n",
    "test_size = 7505"
   ]
  },
  {
   "cell_type": "markdown",
   "metadata": {},
   "source": [
    "Next, we define a learning rate grid search for our model."
   ]
  },
  {
   "cell_type": "code",
   "execution_count": 3,
   "metadata": {},
   "outputs": [],
   "source": [
    "lr_search = [1e-2, 1e-3, 1e-4, 1e-5]\n",
    "nb_epochs = 20"
   ]
  },
  {
   "cell_type": "markdown",
   "metadata": {},
   "source": [
    "We can now load different datasets for each preprocessing methods. Since loading all three datasets at once requires a huge amount of memory, we load them sequentially by clearing out the memory inbetween each procedure."
   ]
  },
  {
   "cell_type": "markdown",
   "metadata": {},
   "source": [
    "### No Preprocessing"
   ]
  },
  {
   "cell_type": "code",
   "execution_count": 4,
   "metadata": {
    "scrolled": true
   },
   "outputs": [],
   "source": [
    "# Load dataset without any preprocessing (count vector)\n",
    "train_data, test_data = load_newsgroups(train_filename, test_filename, \n",
    "                                layers[0], train_size, test_size, \"count\")\n",
    "train_loader = DataLoader(train_data, batch_size=batch_size)\n",
    "test_loader = DataLoader(test_data, batch_size=batch_size)"
   ]
  },
  {
   "cell_type": "code",
   "execution_count": 18,
   "metadata": {},
   "outputs": [
    {
     "name": "stdout",
     "output_type": "stream",
     "text": [
      "==============================\n",
      "Learning rate = 0.1000\n",
      "------------------------------\n",
      "Epoch 1/20\n",
      "Avg loss: 10.6031 -- Train acc: 0.0429 -- Test acc: 0.0440\n",
      "Epoch 2/20\n",
      "Avg loss: 49.2482 -- Train acc: 0.0432 -- Test acc: 0.0438\n",
      "Epoch 3/20\n",
      "Avg loss: 14.5802 -- Train acc: 0.0438 -- Test acc: 0.0436\n",
      "Epoch 4/20\n",
      "Avg loss: 28.4527 -- Train acc: 0.0433 -- Test acc: 0.0429\n",
      "Epoch 5/20\n",
      "Avg loss: 35.4696 -- Train acc: 0.0453 -- Test acc: 0.0442\n",
      "Epoch 6/20\n",
      "Avg loss: 4.5944 -- Train acc: 0.0448 -- Test acc: 0.0438\n",
      "Epoch 7/20\n",
      "Avg loss: 4.5434 -- Train acc: 0.0472 -- Test acc: 0.0454\n",
      "Epoch 8/20\n",
      "Avg loss: 4.5240 -- Train acc: 0.0598 -- Test acc: 0.0580\n",
      "Epoch 9/20\n",
      "Avg loss: 4.5122 -- Train acc: 0.0453 -- Test acc: 0.0440\n",
      "Epoch 10/20\n",
      "Avg loss: 4.5002 -- Train acc: 0.0621 -- Test acc: 0.0593\n",
      "Epoch 11/20\n",
      "Avg loss: 4.4584 -- Train acc: 0.0635 -- Test acc: 0.0596\n",
      "Epoch 12/20\n",
      "Avg loss: 4.4764 -- Train acc: 0.0553 -- Test acc: 0.0514\n",
      "Epoch 13/20\n",
      "Avg loss: 4.4854 -- Train acc: 0.0653 -- Test acc: 0.0612\n",
      "Epoch 14/20\n",
      "Avg loss: 40.7465 -- Train acc: 0.0707 -- Test acc: 0.0648\n",
      "Epoch 15/20\n",
      "Avg loss: 4.4557 -- Train acc: 0.0724 -- Test acc: 0.0675\n",
      "Epoch 16/20\n",
      "Avg loss: 4.4371 -- Train acc: 0.0713 -- Test acc: 0.0657\n",
      "Epoch 17/20\n",
      "Avg loss: 4.4675 -- Train acc: 0.0697 -- Test acc: 0.0632\n",
      "Epoch 18/20\n",
      "Avg loss: 4.4186 -- Train acc: 0.0737 -- Test acc: 0.0685\n",
      "Epoch 19/20\n",
      "Avg loss: 4.4184 -- Train acc: 0.0748 -- Test acc: 0.0698\n",
      "Epoch 20/20\n",
      "Avg loss: 4.4136 -- Train acc: 0.0743 -- Test acc: 0.0698\n",
      "Training done! Elapsed time: 0:00:45\n",
      "\n",
      "==============================\n",
      "Learning rate = 0.0100\n",
      "------------------------------\n",
      "Epoch 1/20\n",
      "Avg loss: 3.5582 -- Train acc: 0.0538 -- Test acc: 0.0539\n",
      "Epoch 2/20\n",
      "Avg loss: 3.3918 -- Train acc: 0.0575 -- Test acc: 0.0565\n",
      "Epoch 3/20\n",
      "Avg loss: 3.4262 -- Train acc: 0.0541 -- Test acc: 0.0540\n",
      "Epoch 4/20\n",
      "Avg loss: 3.3924 -- Train acc: 0.0597 -- Test acc: 0.0576\n",
      "Epoch 5/20\n",
      "Avg loss: 3.2341 -- Train acc: 0.0584 -- Test acc: 0.0572\n",
      "Epoch 6/20\n",
      "Avg loss: 3.4488 -- Train acc: 0.0560 -- Test acc: 0.0547\n",
      "Epoch 7/20\n",
      "Avg loss: 3.2193 -- Train acc: 0.0576 -- Test acc: 0.0559\n",
      "Epoch 8/20\n",
      "Avg loss: 3.2801 -- Train acc: 0.0604 -- Test acc: 0.0569\n",
      "Epoch 9/20\n",
      "Avg loss: 3.2463 -- Train acc: 0.0663 -- Test acc: 0.0609\n",
      "Epoch 10/20\n",
      "Avg loss: 3.2699 -- Train acc: 0.0652 -- Test acc: 0.0609\n",
      "Epoch 11/20\n",
      "Avg loss: 3.2242 -- Train acc: 0.0838 -- Test acc: 0.0767\n",
      "Epoch 12/20\n",
      "Avg loss: 3.2370 -- Train acc: 0.0584 -- Test acc: 0.0568\n",
      "Epoch 13/20\n",
      "Avg loss: 3.4812 -- Train acc: 0.0885 -- Test acc: 0.0869\n",
      "Epoch 14/20\n",
      "Avg loss: 3.2014 -- Train acc: 0.0907 -- Test acc: 0.0814\n",
      "Epoch 15/20\n",
      "Avg loss: 3.1723 -- Train acc: 0.0957 -- Test acc: 0.0859\n",
      "Epoch 16/20\n",
      "Avg loss: 3.2154 -- Train acc: 0.0936 -- Test acc: 0.0850\n",
      "Epoch 17/20\n",
      "Avg loss: 3.4257 -- Train acc: 0.0889 -- Test acc: 0.0828\n",
      "Epoch 18/20\n",
      "Avg loss: 3.3155 -- Train acc: 0.0922 -- Test acc: 0.0796\n",
      "Epoch 19/20\n",
      "Avg loss: 3.2235 -- Train acc: 0.0703 -- Test acc: 0.0626\n",
      "Epoch 20/20\n",
      "Avg loss: 3.2318 -- Train acc: 0.0672 -- Test acc: 0.0614\n",
      "Training done! Elapsed time: 0:00:46\n",
      "\n",
      "==============================\n",
      "Learning rate = 0.0010\n",
      "------------------------------\n",
      "Epoch 1/20\n",
      "Avg loss: 3.1467 -- Train acc: 0.0545 -- Test acc: 0.0544\n",
      "Epoch 2/20\n",
      "Avg loss: 3.0209 -- Train acc: 0.0721 -- Test acc: 0.0646\n",
      "Epoch 3/20\n",
      "Avg loss: 3.0187 -- Train acc: 0.0740 -- Test acc: 0.0670\n",
      "Epoch 4/20\n",
      "Avg loss: 3.0163 -- Train acc: 0.0873 -- Test acc: 0.0794\n",
      "Epoch 5/20\n",
      "Avg loss: 3.0593 -- Train acc: 0.0860 -- Test acc: 0.0802\n",
      "Epoch 6/20\n",
      "Avg loss: 3.0171 -- Train acc: 0.0947 -- Test acc: 0.0865\n",
      "Epoch 7/20\n",
      "Avg loss: 3.0263 -- Train acc: 0.1003 -- Test acc: 0.0898\n",
      "Epoch 8/20\n",
      "Avg loss: 3.0089 -- Train acc: 0.0930 -- Test acc: 0.0854\n",
      "Epoch 9/20\n",
      "Avg loss: 3.0146 -- Train acc: 0.1023 -- Test acc: 0.0960\n",
      "Epoch 10/20\n",
      "Avg loss: 3.0203 -- Train acc: 0.1061 -- Test acc: 0.0967\n",
      "Epoch 11/20\n",
      "Avg loss: 2.9893 -- Train acc: 0.1090 -- Test acc: 0.1018\n",
      "Epoch 12/20\n",
      "Avg loss: 2.9847 -- Train acc: 0.1111 -- Test acc: 0.1046\n",
      "Epoch 13/20\n",
      "Avg loss: 2.9785 -- Train acc: 0.1207 -- Test acc: 0.1164\n",
      "Epoch 14/20\n",
      "Avg loss: 2.9744 -- Train acc: 0.1171 -- Test acc: 0.1115\n",
      "Epoch 15/20\n",
      "Avg loss: 2.9682 -- Train acc: 0.1347 -- Test acc: 0.1261\n",
      "Epoch 16/20\n",
      "Avg loss: 3.0077 -- Train acc: 0.1270 -- Test acc: 0.1194\n",
      "Epoch 17/20\n",
      "Avg loss: 2.9458 -- Train acc: 0.1295 -- Test acc: 0.1226\n",
      "Epoch 18/20\n",
      "Avg loss: 2.9340 -- Train acc: 0.1276 -- Test acc: 0.1177\n",
      "Epoch 19/20\n",
      "Avg loss: 2.9307 -- Train acc: 0.1434 -- Test acc: 0.1339\n",
      "Epoch 20/20\n",
      "Avg loss: 2.9176 -- Train acc: 0.1362 -- Test acc: 0.1230\n",
      "Training done! Elapsed time: 0:00:46\n",
      "\n",
      "==============================\n",
      "Learning rate = 0.0001\n",
      "------------------------------\n",
      "Epoch 1/20\n",
      "Avg loss: 3.1070 -- Train acc: 0.0755 -- Test acc: 0.0735\n",
      "Epoch 2/20\n",
      "Avg loss: 2.9962 -- Train acc: 0.0875 -- Test acc: 0.0796\n",
      "Epoch 3/20\n",
      "Avg loss: 2.9957 -- Train acc: 0.1012 -- Test acc: 0.0918\n",
      "Epoch 4/20\n",
      "Avg loss: 2.9923 -- Train acc: 0.1187 -- Test acc: 0.1001\n",
      "Epoch 5/20\n",
      "Avg loss: 2.9935 -- Train acc: 0.1306 -- Test acc: 0.1074\n",
      "Epoch 6/20\n",
      "Avg loss: 2.9907 -- Train acc: 0.1476 -- Test acc: 0.1185\n",
      "Epoch 7/20\n",
      "Avg loss: 2.9873 -- Train acc: 0.1459 -- Test acc: 0.1225\n",
      "Epoch 8/20\n",
      "Avg loss: 2.9866 -- Train acc: 0.1744 -- Test acc: 0.1367\n",
      "Epoch 9/20\n",
      "Avg loss: 2.9821 -- Train acc: 0.1764 -- Test acc: 0.1425\n",
      "Epoch 10/20\n",
      "Avg loss: 2.9772 -- Train acc: 0.1859 -- Test acc: 0.1502\n",
      "Epoch 11/20\n",
      "Avg loss: 2.9784 -- Train acc: 0.1889 -- Test acc: 0.1590\n",
      "Epoch 12/20\n",
      "Avg loss: 2.9654 -- Train acc: 0.2033 -- Test acc: 0.1691\n",
      "Epoch 13/20\n",
      "Avg loss: 2.9609 -- Train acc: 0.1890 -- Test acc: 0.1577\n",
      "Epoch 14/20\n",
      "Avg loss: 2.9535 -- Train acc: 0.1721 -- Test acc: 0.1446\n",
      "Epoch 15/20\n",
      "Avg loss: 2.9471 -- Train acc: 0.1883 -- Test acc: 0.1516\n",
      "Epoch 16/20\n",
      "Avg loss: 2.9410 -- Train acc: 0.2025 -- Test acc: 0.1643\n",
      "Epoch 17/20\n",
      "Avg loss: 2.9264 -- Train acc: 0.2141 -- Test acc: 0.1732\n",
      "Epoch 18/20\n",
      "Avg loss: 2.9097 -- Train acc: 0.2311 -- Test acc: 0.1923\n",
      "Epoch 19/20\n",
      "Avg loss: 2.9073 -- Train acc: 0.2400 -- Test acc: 0.1962\n",
      "Epoch 20/20\n",
      "Avg loss: 2.8818 -- Train acc: 0.2602 -- Test acc: 0.2156\n",
      "Training done! Elapsed time: 0:00:46\n",
      "\n",
      "==============================\n",
      "Learning rate = 0.0000\n",
      "------------------------------\n",
      "Epoch 1/20\n",
      "Avg loss: 3.0579 -- Train acc: 0.0599 -- Test acc: 0.0604\n",
      "Epoch 2/20\n",
      "Avg loss: 3.0198 -- Train acc: 0.0639 -- Test acc: 0.0657\n",
      "Epoch 3/20\n",
      "Avg loss: 3.0033 -- Train acc: 0.0685 -- Test acc: 0.0703\n",
      "Epoch 4/20\n",
      "Avg loss: 2.9930 -- Train acc: 0.0743 -- Test acc: 0.0745\n",
      "Epoch 5/20\n",
      "Avg loss: 2.9850 -- Train acc: 0.0791 -- Test acc: 0.0777\n",
      "Epoch 6/20\n",
      "Avg loss: 2.9785 -- Train acc: 0.0840 -- Test acc: 0.0818\n",
      "Epoch 7/20\n",
      "Avg loss: 2.9720 -- Train acc: 0.0901 -- Test acc: 0.0851\n",
      "Epoch 8/20\n",
      "Avg loss: 2.9659 -- Train acc: 0.0950 -- Test acc: 0.0900\n",
      "Epoch 9/20\n",
      "Avg loss: 2.9600 -- Train acc: 0.1005 -- Test acc: 0.0947\n",
      "Epoch 10/20\n",
      "Avg loss: 2.9538 -- Train acc: 0.1064 -- Test acc: 0.0976\n",
      "Epoch 11/20\n",
      "Avg loss: 2.9473 -- Train acc: 0.1128 -- Test acc: 0.0996\n",
      "Epoch 12/20\n",
      "Avg loss: 2.9412 -- Train acc: 0.1194 -- Test acc: 0.1033\n",
      "Epoch 13/20\n",
      "Avg loss: 2.9350 -- Train acc: 0.1256 -- Test acc: 0.1094\n",
      "Epoch 14/20\n",
      "Avg loss: 2.9288 -- Train acc: 0.1318 -- Test acc: 0.1157\n",
      "Epoch 15/20\n",
      "Avg loss: 2.9227 -- Train acc: 0.1385 -- Test acc: 0.1226\n",
      "Epoch 16/20\n",
      "Avg loss: 2.9164 -- Train acc: 0.1449 -- Test acc: 0.1280\n",
      "Epoch 17/20\n",
      "Avg loss: 2.9101 -- Train acc: 0.1528 -- Test acc: 0.1335\n",
      "Epoch 18/20\n",
      "Avg loss: 2.9036 -- Train acc: 0.1577 -- Test acc: 0.1385\n",
      "Epoch 19/20\n",
      "Avg loss: 2.8973 -- Train acc: 0.1641 -- Test acc: 0.1449\n",
      "Epoch 20/20\n",
      "Avg loss: 2.8911 -- Train acc: 0.1717 -- Test acc: 0.1496\n",
      "Training done! Elapsed time: 0:00:46\n",
      "\n"
     ]
    }
   ],
   "source": [
    "# Compile and train model\n",
    "train_acc = torch.zeros((len(lr_search), nb_epochs))\n",
    "test_acc = torch.zeros((len(lr_search), nb_epochs))\n",
    "\n",
    "# Learning rate grid search\n",
    "for i, lr in enumerate(lr_search):\n",
    "    print(\"{}\\nLearning rate = {:.5f}\\n{}\".format(\"=\"*30, lr, \"-\"*30))\n",
    "    mlp_n = Newsgroups(layers, lr, momentum)\n",
    "    _, tr_acc, te_acc = mlp_n.train(nb_epochs, train_loader, test_loader)\n",
    "    train_acc[i], test_acc[i] = torch.FloatTensor(tr_acc), torch.FloatTensor(te_acc)"
   ]
  },
  {
   "cell_type": "code",
   "execution_count": 19,
   "metadata": {},
   "outputs": [
    {
     "data": {
      "image/png": "[encoded data removed]",
      "text/plain": [
       "<matplotlib.figure.Figure at 0x7fc16c040c10>"
      ]
     },
     "metadata": {},
     "output_type": "display_data"
    }
   ],
   "source": [
    "# Find best learning rate\n",
    "best_lr_idx = test_acc.max(1)[0].max(0)[1][0]\n",
    "best_lr = lr_search[best_lr_idx]\n",
    "\n",
    "# Plot accuracy per epoch for this learning rate\n",
    "plots_per_epoch([train_acc[best_lr_idx], test_acc[best_lr_idx]], \n",
    "    [\"Train\", \"Test\"], \"Accuracy\", \"Count: Best learning rate = {}\".format(best_lr))"
   ]
  },
  {
   "cell_type": "markdown",
   "metadata": {},
   "source": [
    "### TF-IDF"
   ]
  },
  {
   "cell_type": "code",
   "execution_count": 4,
   "metadata": {},
   "outputs": [],
   "source": [
    "# Load dataset with tf-idf preprocessing (tf-idf vector)\n",
    "train_data, test_data = load_newsgroups(train_filename, test_filename, \n",
    "                                layers[0], train_size, test_size, \"tfidf\")\n",
    "train_loader = DataLoader(train_data, batch_size=batch_size)\n",
    "test_loader = DataLoader(test_data, batch_size=batch_size)"
   ]
  },
  {
   "cell_type": "code",
   "execution_count": 11,
   "metadata": {},
   "outputs": [
    {
     "name": "stdout",
     "output_type": "stream",
     "text": [
      "==============================\n",
      "Learning rate = 0.10000\n",
      "------------------------------\n",
      "Epoch 1/20\n",
      "Avg loss: 77.7257 -- Train acc: 0.0434 -- Test acc: 0.0430\n",
      "Epoch 2/20\n",
      "Avg loss: 6.2442 -- Train acc: 0.0439 -- Test acc: 0.0425\n",
      "Epoch 3/20\n",
      "Avg loss: 46.0783 -- Train acc: 0.0440 -- Test acc: 0.0429\n",
      "Epoch 4/20\n",
      "Avg loss: 340.2365 -- Train acc: 0.0433 -- Test acc: 0.0425\n",
      "Epoch 5/20\n",
      "Avg loss: 1305.3649 -- Train acc: 0.0476 -- Test acc: 0.0449\n",
      "Epoch 6/20\n",
      "Avg loss: 7452.3127 -- Train acc: 0.0556 -- Test acc: 0.0502\n",
      "Epoch 7/20\n",
      "Avg loss: 4.5735 -- Train acc: 0.0621 -- Test acc: 0.0534\n",
      "Epoch 8/20\n",
      "Avg loss: 4.8432 -- Train acc: 0.0518 -- Test acc: 0.0449\n",
      "Epoch 9/20\n",
      "Avg loss: 8.2525 -- Train acc: 0.0523 -- Test acc: 0.0474\n",
      "Epoch 10/20\n",
      "Avg loss: 4.5802 -- Train acc: 0.0508 -- Test acc: 0.0454\n",
      "Epoch 11/20\n",
      "Avg loss: 4.5033 -- Train acc: 0.0508 -- Test acc: 0.0456\n",
      "Epoch 12/20\n",
      "Avg loss: 4.5034 -- Train acc: 0.0508 -- Test acc: 0.0456\n",
      "Epoch 13/20\n",
      "Avg loss: 4.5037 -- Train acc: 0.0509 -- Test acc: 0.0456\n",
      "Epoch 14/20\n",
      "Avg loss: 4.5324 -- Train acc: 0.0506 -- Test acc: 0.0454\n",
      "Epoch 15/20\n",
      "Avg loss: 4.5206 -- Train acc: 0.0508 -- Test acc: 0.0454\n",
      "Epoch 16/20\n",
      "Avg loss: 4.5034 -- Train acc: 0.0508 -- Test acc: 0.0454\n",
      "Epoch 17/20\n",
      "Avg loss: 4.5027 -- Train acc: 0.0508 -- Test acc: 0.0454\n",
      "Epoch 18/20\n",
      "Avg loss: 4.5027 -- Train acc: 0.0508 -- Test acc: 0.0454\n",
      "Epoch 19/20\n",
      "Avg loss: 4.5024 -- Train acc: 0.0508 -- Test acc: 0.0454\n",
      "Epoch 20/20\n",
      "Avg loss: 4.5058 -- Train acc: 0.0509 -- Test acc: 0.0454\n",
      "Training done! Elapsed time: 0:00:44\n",
      "\n",
      "==============================\n",
      "Learning rate = 0.01000\n",
      "------------------------------\n",
      "Epoch 1/20\n",
      "Avg loss: 4.8971 -- Train acc: 0.0587 -- Test acc: 0.0580\n",
      "Epoch 2/20\n",
      "Avg loss: 3.9904 -- Train acc: 0.0615 -- Test acc: 0.0580\n",
      "Epoch 3/20\n",
      "Avg loss: 3.8721 -- Train acc: 0.1007 -- Test acc: 0.0885\n",
      "Epoch 4/20\n",
      "Avg loss: 4.7229 -- Train acc: 0.1073 -- Test acc: 0.0956\n",
      "Epoch 5/20\n",
      "Avg loss: 3.9887 -- Train acc: 0.1052 -- Test acc: 0.0928\n",
      "Epoch 6/20\n",
      "Avg loss: 3.1538 -- Train acc: 0.1315 -- Test acc: 0.1194\n",
      "Epoch 7/20\n",
      "Avg loss: 3.0716 -- Train acc: 0.1407 -- Test acc: 0.1291\n",
      "Epoch 8/20\n",
      "Avg loss: 3.0246 -- Train acc: 0.1558 -- Test acc: 0.1378\n",
      "Epoch 9/20\n",
      "Avg loss: 4.8835 -- Train acc: 0.1224 -- Test acc: 0.1092\n",
      "Epoch 10/20\n",
      "Avg loss: 7.3522 -- Train acc: 0.1272 -- Test acc: 0.1026\n",
      "Epoch 11/20\n",
      "Avg loss: 4.3519 -- Train acc: 0.1228 -- Test acc: 0.0973\n",
      "Epoch 12/20\n",
      "Avg loss: 3.3797 -- Train acc: 0.1468 -- Test acc: 0.1159\n",
      "Epoch 13/20\n",
      "Avg loss: 3.1077 -- Train acc: 0.1216 -- Test acc: 0.1016\n",
      "Epoch 14/20\n",
      "Avg loss: 3.0535 -- Train acc: 0.1450 -- Test acc: 0.1067\n",
      "Epoch 15/20\n",
      "Avg loss: 2.9830 -- Train acc: 0.1461 -- Test acc: 0.1124\n",
      "Epoch 16/20\n",
      "Avg loss: 3.0427 -- Train acc: 0.1421 -- Test acc: 0.1103\n",
      "Epoch 17/20\n",
      "Avg loss: 2.9230 -- Train acc: 0.1615 -- Test acc: 0.1184\n",
      "Epoch 18/20\n",
      "Avg loss: 3.2795 -- Train acc: 0.1236 -- Test acc: 0.0944\n",
      "Epoch 19/20\n",
      "Avg loss: 2.8950 -- Train acc: 0.1720 -- Test acc: 0.1405\n",
      "Epoch 20/20\n",
      "Avg loss: 2.8536 -- Train acc: 0.1845 -- Test acc: 0.1453\n",
      "Training done! Elapsed time: 0:00:46\n",
      "\n",
      "==============================\n",
      "Learning rate = 0.00100\n",
      "------------------------------\n",
      "Epoch 1/20\n",
      "Avg loss: 3.2371 -- Train acc: 0.0870 -- Test acc: 0.0670\n",
      "Epoch 2/20\n",
      "Avg loss: 3.0056 -- Train acc: 0.1256 -- Test acc: 0.0947\n",
      "Epoch 3/20\n",
      "Avg loss: 3.0454 -- Train acc: 0.1446 -- Test acc: 0.1116\n",
      "Epoch 4/20\n",
      "Avg loss: 2.9781 -- Train acc: 0.1853 -- Test acc: 0.1345\n",
      "Epoch 5/20\n",
      "Avg loss: 3.0334 -- Train acc: 0.2230 -- Test acc: 0.1741\n",
      "Epoch 6/20\n",
      "Avg loss: 2.8308 -- Train acc: 0.2203 -- Test acc: 0.1748\n",
      "Epoch 7/20\n",
      "Avg loss: 2.7548 -- Train acc: 0.2144 -- Test acc: 0.1647\n",
      "Epoch 8/20\n",
      "Avg loss: 2.6576 -- Train acc: 0.2780 -- Test acc: 0.2215\n",
      "Epoch 9/20\n",
      "Avg loss: 2.5456 -- Train acc: 0.3110 -- Test acc: 0.2447\n",
      "Epoch 10/20\n",
      "Avg loss: 2.4150 -- Train acc: 0.3120 -- Test acc: 0.2430\n",
      "Epoch 11/20\n",
      "Avg loss: 2.4370 -- Train acc: 0.3061 -- Test acc: 0.2401\n",
      "Epoch 12/20\n",
      "Avg loss: 2.3006 -- Train acc: 0.3722 -- Test acc: 0.3011\n",
      "Epoch 13/20\n",
      "Avg loss: 2.0791 -- Train acc: 0.4210 -- Test acc: 0.3294\n",
      "Epoch 14/20\n",
      "Avg loss: 1.9242 -- Train acc: 0.4195 -- Test acc: 0.3245\n",
      "Epoch 15/20\n",
      "Avg loss: 2.0039 -- Train acc: 0.4732 -- Test acc: 0.3530\n",
      "Epoch 16/20\n",
      "Avg loss: 1.8002 -- Train acc: 0.4708 -- Test acc: 0.3635\n",
      "Epoch 17/20\n",
      "Avg loss: 1.8443 -- Train acc: 0.5063 -- Test acc: 0.3619\n",
      "Epoch 18/20\n",
      "Avg loss: 1.8079 -- Train acc: 0.5402 -- Test acc: 0.4094\n",
      "Epoch 19/20\n",
      "Avg loss: 1.5448 -- Train acc: 0.5006 -- Test acc: 0.3486\n",
      "Epoch 20/20\n",
      "Avg loss: 1.5023 -- Train acc: 0.5514 -- Test acc: 0.4002\n",
      "Training done! Elapsed time: 0:00:45\n",
      "\n",
      "==============================\n",
      "Learning rate = 0.00010\n",
      "------------------------------\n",
      "Epoch 1/20\n",
      "Avg loss: 3.2650 -- Train acc: 0.1195 -- Test acc: 0.0926\n",
      "Epoch 2/20\n",
      "Avg loss: 2.9563 -- Train acc: 0.1888 -- Test acc: 0.1319\n",
      "Epoch 3/20\n",
      "Avg loss: 2.9073 -- Train acc: 0.2603 -- Test acc: 0.1827\n",
      "Epoch 4/20\n",
      "Avg loss: 2.8214 -- Train acc: 0.2632 -- Test acc: 0.1721\n",
      "Epoch 5/20\n",
      "Avg loss: 2.7025 -- Train acc: 0.2820 -- Test acc: 0.1752\n",
      "Epoch 6/20\n",
      "Avg loss: 2.5254 -- Train acc: 0.3876 -- Test acc: 0.2516\n",
      "Epoch 7/20\n",
      "Avg loss: 2.3349 -- Train acc: 0.5011 -- Test acc: 0.3370\n",
      "Epoch 8/20\n",
      "Avg loss: 2.1389 -- Train acc: 0.5012 -- Test acc: 0.3249\n",
      "Epoch 9/20\n",
      "Avg loss: 1.9909 -- Train acc: 0.6475 -- Test acc: 0.4502\n",
      "Epoch 10/20\n",
      "Avg loss: 1.7553 -- Train acc: 0.7051 -- Test acc: 0.5040\n",
      "Epoch 11/20\n",
      "Avg loss: 1.5905 -- Train acc: 0.7541 -- Test acc: 0.5528\n",
      "Epoch 12/20\n",
      "Avg loss: 1.4384 -- Train acc: 0.7963 -- Test acc: 0.5975\n",
      "Epoch 13/20\n",
      "Avg loss: 1.3015 -- Train acc: 0.8237 -- Test acc: 0.6286\n",
      "Epoch 14/20\n",
      "Avg loss: 1.1887 -- Train acc: 0.8458 -- Test acc: 0.6502\n",
      "Epoch 15/20\n",
      "Avg loss: 1.0865 -- Train acc: 0.8629 -- Test acc: 0.6670\n",
      "Epoch 16/20\n",
      "Avg loss: 1.0139 -- Train acc: 0.8788 -- Test acc: 0.6845\n",
      "Epoch 17/20\n",
      "Avg loss: 0.9458 -- Train acc: 0.8858 -- Test acc: 0.6886\n",
      "Epoch 18/20\n",
      "Avg loss: 0.9030 -- Train acc: 0.9002 -- Test acc: 0.7042\n",
      "Epoch 19/20\n",
      "Avg loss: 0.8459 -- Train acc: 0.9092 -- Test acc: 0.7150\n",
      "Epoch 20/20\n",
      "Avg loss: 0.7954 -- Train acc: 0.9149 -- Test acc: 0.7178\n",
      "Training done! Elapsed time: 0:00:46\n",
      "\n",
      "==============================\n",
      "Learning rate = 0.00001\n",
      "------------------------------\n",
      "Epoch 1/20\n",
      "Avg loss: 3.2663 -- Train acc: 0.0798 -- Test acc: 0.0777\n",
      "Epoch 2/20\n",
      "Avg loss: 3.0400 -- Train acc: 0.1075 -- Test acc: 0.0939\n",
      "Epoch 3/20\n",
      "Avg loss: 2.9501 -- Train acc: 0.1358 -- Test acc: 0.1131\n",
      "Epoch 4/20\n",
      "Avg loss: 2.8911 -- Train acc: 0.1653 -- Test acc: 0.1300\n",
      "Epoch 5/20\n",
      "Avg loss: 2.8399 -- Train acc: 0.1977 -- Test acc: 0.1517\n",
      "Epoch 6/20\n",
      "Avg loss: 2.7906 -- Train acc: 0.2296 -- Test acc: 0.1728\n",
      "Epoch 7/20\n",
      "Avg loss: 2.7415 -- Train acc: 0.2605 -- Test acc: 0.1961\n",
      "Epoch 8/20\n",
      "Avg loss: 2.6908 -- Train acc: 0.2925 -- Test acc: 0.2213\n",
      "Epoch 9/20\n",
      "Avg loss: 2.6400 -- Train acc: 0.3254 -- Test acc: 0.2428\n",
      "Epoch 10/20\n",
      "Avg loss: 2.5881 -- Train acc: 0.3577 -- Test acc: 0.2685\n",
      "Epoch 11/20\n",
      "Avg loss: 2.5344 -- Train acc: 0.3890 -- Test acc: 0.2920\n",
      "Epoch 12/20\n",
      "Avg loss: 2.4789 -- Train acc: 0.4174 -- Test acc: 0.3146\n",
      "Epoch 13/20\n",
      "Avg loss: 2.4219 -- Train acc: 0.4480 -- Test acc: 0.3345\n",
      "Epoch 14/20\n",
      "Avg loss: 2.3659 -- Train acc: 0.4774 -- Test acc: 0.3584\n",
      "Epoch 15/20\n",
      "Avg loss: 2.3086 -- Train acc: 0.5071 -- Test acc: 0.3815\n",
      "Epoch 16/20\n",
      "Avg loss: 2.2523 -- Train acc: 0.5295 -- Test acc: 0.4028\n",
      "Epoch 17/20\n",
      "Avg loss: 2.1972 -- Train acc: 0.5520 -- Test acc: 0.4216\n",
      "Epoch 18/20\n",
      "Avg loss: 2.1433 -- Train acc: 0.5706 -- Test acc: 0.4371\n",
      "Epoch 19/20\n",
      "Avg loss: 2.0907 -- Train acc: 0.5906 -- Test acc: 0.4530\n",
      "Epoch 20/20\n",
      "Avg loss: 2.0402 -- Train acc: 0.6089 -- Test acc: 0.4701\n",
      "Training done! Elapsed time: 0:00:45\n",
      "\n"
     ]
    }
   ],
   "source": [
    "# Compile and train model\n",
    "train_acc = torch.zeros((len(lr_search), nb_epochs))\n",
    "test_acc = torch.zeros((len(lr_search), nb_epochs))\n",
    "\n",
    "# Learning rate grid search\n",
    "for i, lr in enumerate(lr_search):\n",
    "    print(\"{}\\nLearning rate = {:.5f}\\n{}\".format(\"=\"*30, lr, \"-\"*30))\n",
    "    mlp_t = Newsgroups(layers, lr, momentum)\n",
    "    _, tr_acc, te_acc = mlp_t.train(nb_epochs, train_loader, test_loader)\n",
    "    train_acc[i], test_acc[i] = torch.FloatTensor(tr_acc), torch.FloatTensor(te_acc)"
   ]
  },
  {
   "cell_type": "code",
   "execution_count": 12,
   "metadata": {},
   "outputs": [
    {
     "data": {
      "image/png": "[encoded data removed]",
      "text/plain": [
       "<matplotlib.figure.Figure at 0x7f56332c7e10>"
      ]
     },
     "metadata": {},
     "output_type": "display_data"
    }
   ],
   "source": [
    "# Find best learning rate\n",
    "best_lr_idx = test_acc.max(1)[0].max(0)[1][0]\n",
    "best_lr = lr_search[best_lr_idx]\n",
    "\n",
    "# Plot accuracy per epoch for this learning rate\n",
    "plots_per_epoch([train_acc[best_lr_idx], test_acc[best_lr_idx]], \n",
    "    [\"Train\", \"Test\"], \"Accuracy\", \"TF-IDF: Best learning rate = {}\".format(best_lr))"
   ]
  },
  {
   "cell_type": "markdown",
   "metadata": {},
   "source": [
    "### Standardization"
   ]
  },
  {
   "cell_type": "code",
   "execution_count": 4,
   "metadata": {},
   "outputs": [],
   "source": [
    "# Load dataset with standardization preprocessing, given epsilon\n",
    "train_data, test_data = load_newsgroups(train_filename, test_filename, \n",
    "                                layers[0], train_size, test_size, \"stand\", 1e-5)\n",
    "train_loader = DataLoader(train_data, batch_size=batch_size)\n",
    "test_loader = DataLoader(test_data, batch_size=batch_size)"
   ]
  },
  {
   "cell_type": "code",
   "execution_count": 6,
   "metadata": {},
   "outputs": [
    {
     "name": "stdout",
     "output_type": "stream",
     "text": [
      "==============================\n",
      "Learning rate = 0.00001\n",
      "------------------------------\n",
      "Epoch 1/20\n",
      "Avg loss: 3.2956 -- Train acc: 0.0624 -- Test acc: 0.0531\n",
      "Epoch 2/20\n",
      "Avg loss: 3.2021 -- Train acc: 0.0734 -- Test acc: 0.0588\n",
      "Epoch 3/20\n",
      "Avg loss: 3.1158 -- Train acc: 0.0865 -- Test acc: 0.0655\n",
      "Epoch 4/20\n",
      "Avg loss: 3.0357 -- Train acc: 0.1036 -- Test acc: 0.0706\n",
      "Epoch 5/20\n",
      "Avg loss: 2.9608 -- Train acc: 0.1218 -- Test acc: 0.0772\n",
      "Epoch 6/20\n",
      "Avg loss: 2.8902 -- Train acc: 0.1406 -- Test acc: 0.0830\n",
      "Epoch 7/20\n",
      "Avg loss: 2.8238 -- Train acc: 0.1629 -- Test acc: 0.0906\n",
      "Epoch 8/20\n",
      "Avg loss: 2.7612 -- Train acc: 0.1828 -- Test acc: 0.0972\n",
      "Epoch 9/20\n",
      "Avg loss: 2.7020 -- Train acc: 0.2044 -- Test acc: 0.1042\n",
      "Epoch 10/20\n",
      "Avg loss: 2.6459 -- Train acc: 0.2270 -- Test acc: 0.1132\n",
      "Epoch 11/20\n",
      "Avg loss: 2.5924 -- Train acc: 0.2493 -- Test acc: 0.1221\n",
      "Epoch 12/20\n",
      "Avg loss: 2.5411 -- Train acc: 0.2742 -- Test acc: 0.1307\n",
      "Epoch 13/20\n",
      "Avg loss: 2.4918 -- Train acc: 0.2973 -- Test acc: 0.1404\n",
      "Epoch 14/20\n",
      "Avg loss: 2.4445 -- Train acc: 0.3205 -- Test acc: 0.1487\n",
      "Epoch 15/20\n",
      "Avg loss: 2.3988 -- Train acc: 0.3438 -- Test acc: 0.1572\n",
      "Epoch 16/20\n",
      "Avg loss: 2.3549 -- Train acc: 0.3665 -- Test acc: 0.1657\n",
      "Epoch 17/20\n",
      "Training [■■■■■■■■■■■■■       ] 67.0% \r"
     ]
    },
    {
     "ename": "KeyboardInterrupt",
     "evalue": "",
     "output_type": "error",
     "traceback": [
      "\u001b[0;31m---------------------------------------------------------------------------\u001b[0m",
      "\u001b[0;31mKeyboardInterrupt\u001b[0m                         Traceback (most recent call last)",
      "\u001b[0;32m<ipython-input-6-2f0299adabd9>\u001b[0m in \u001b[0;36m<module>\u001b[0;34m()\u001b[0m\n\u001b[1;32m      7\u001b[0m     \u001b[0;32mprint\u001b[0m\u001b[0;34m(\u001b[0m\u001b[0;34m\"{}\\nLearning rate = {:.5f}\\n{}\"\u001b[0m\u001b[0;34m.\u001b[0m\u001b[0mformat\u001b[0m\u001b[0;34m(\u001b[0m\u001b[0;34m\"=\"\u001b[0m\u001b[0;34m*\u001b[0m\u001b[0;36m30\u001b[0m\u001b[0;34m,\u001b[0m \u001b[0mlr\u001b[0m\u001b[0;34m,\u001b[0m \u001b[0;34m\"-\"\u001b[0m\u001b[0;34m*\u001b[0m\u001b[0;36m30\u001b[0m\u001b[0;34m)\u001b[0m\u001b[0;34m)\u001b[0m\u001b[0;34m\u001b[0m\u001b[0m\n\u001b[1;32m      8\u001b[0m     \u001b[0mmlp_t\u001b[0m \u001b[0;34m=\u001b[0m \u001b[0mNewsgroups\u001b[0m\u001b[0;34m(\u001b[0m\u001b[0mlayers\u001b[0m\u001b[0;34m,\u001b[0m \u001b[0mlr\u001b[0m\u001b[0;34m,\u001b[0m \u001b[0mmomentum\u001b[0m\u001b[0;34m)\u001b[0m\u001b[0;34m\u001b[0m\u001b[0m\n\u001b[0;32m----> 9\u001b[0;31m     \u001b[0m_\u001b[0m\u001b[0;34m,\u001b[0m \u001b[0mtr_acc\u001b[0m\u001b[0;34m,\u001b[0m \u001b[0mte_acc\u001b[0m \u001b[0;34m=\u001b[0m \u001b[0mmlp_t\u001b[0m\u001b[0;34m.\u001b[0m\u001b[0mtrain\u001b[0m\u001b[0;34m(\u001b[0m\u001b[0mnb_epochs\u001b[0m\u001b[0;34m,\u001b[0m \u001b[0mtrain_loader\u001b[0m\u001b[0;34m,\u001b[0m \u001b[0mtest_loader\u001b[0m\u001b[0;34m)\u001b[0m\u001b[0;34m\u001b[0m\u001b[0m\n\u001b[0m\u001b[1;32m     10\u001b[0m     \u001b[0mtrain_acc\u001b[0m\u001b[0;34m[\u001b[0m\u001b[0mi\u001b[0m\u001b[0;34m]\u001b[0m\u001b[0;34m,\u001b[0m \u001b[0mtest_acc\u001b[0m\u001b[0;34m[\u001b[0m\u001b[0mi\u001b[0m\u001b[0;34m]\u001b[0m \u001b[0;34m=\u001b[0m \u001b[0mtorch\u001b[0m\u001b[0;34m.\u001b[0m\u001b[0mFloatTensor\u001b[0m\u001b[0;34m(\u001b[0m\u001b[0mtr_acc\u001b[0m\u001b[0;34m)\u001b[0m\u001b[0;34m,\u001b[0m \u001b[0mtorch\u001b[0m\u001b[0;34m.\u001b[0m\u001b[0mFloatTensor\u001b[0m\u001b[0;34m(\u001b[0m\u001b[0mte_acc\u001b[0m\u001b[0;34m)\u001b[0m\u001b[0;34m\u001b[0m\u001b[0m\n",
      "\u001b[0;32m/home/nic/Documents/joey/ift6135-a1/src/newsgroups_v2.pyc\u001b[0m in \u001b[0;36mtrain\u001b[0;34m(self, nb_epochs, train_loader, test_loader, nb_max_updates)\u001b[0m\n\u001b[1;32m    114\u001b[0m                 \u001b[0mx\u001b[0m\u001b[0;34m,\u001b[0m \u001b[0my\u001b[0m \u001b[0;34m=\u001b[0m \u001b[0mVariable\u001b[0m\u001b[0;34m(\u001b[0m\u001b[0mx\u001b[0m\u001b[0;34m)\u001b[0m\u001b[0;34m.\u001b[0m\u001b[0mview\u001b[0m\u001b[0;34m(\u001b[0m\u001b[0mlen\u001b[0m\u001b[0;34m(\u001b[0m\u001b[0mx\u001b[0m\u001b[0;34m)\u001b[0m\u001b[0;34m,\u001b[0m \u001b[0;34m-\u001b[0m\u001b[0;36m1\u001b[0m\u001b[0;34m)\u001b[0m\u001b[0;34m,\u001b[0m \u001b[0mVariable\u001b[0m\u001b[0;34m(\u001b[0m\u001b[0my\u001b[0m\u001b[0;34m)\u001b[0m\u001b[0;34m\u001b[0m\u001b[0m\n\u001b[1;32m    115\u001b[0m                 \u001b[0;32mif\u001b[0m \u001b[0mtorch\u001b[0m\u001b[0;34m.\u001b[0m\u001b[0mcuda\u001b[0m\u001b[0;34m.\u001b[0m\u001b[0mis_available\u001b[0m\u001b[0;34m(\u001b[0m\u001b[0;34m)\u001b[0m\u001b[0;34m:\u001b[0m\u001b[0;34m\u001b[0m\u001b[0m\n\u001b[0;32m--> 116\u001b[0;31m                     \u001b[0mx\u001b[0m \u001b[0;34m=\u001b[0m \u001b[0mx\u001b[0m\u001b[0;34m.\u001b[0m\u001b[0mcuda\u001b[0m\u001b[0;34m(\u001b[0m\u001b[0;34m)\u001b[0m\u001b[0;34m\u001b[0m\u001b[0m\n\u001b[0m\u001b[1;32m    117\u001b[0m                     \u001b[0my\u001b[0m \u001b[0;34m=\u001b[0m \u001b[0my\u001b[0m\u001b[0;34m.\u001b[0m\u001b[0mcuda\u001b[0m\u001b[0;34m(\u001b[0m\u001b[0;34m)\u001b[0m\u001b[0;34m\u001b[0m\u001b[0m\n\u001b[1;32m    118\u001b[0m \u001b[0;34m\u001b[0m\u001b[0m\n",
      "\u001b[0;32m/home/nic/.local/lib/python2.7/site-packages/torch/autograd/variable.pyc\u001b[0m in \u001b[0;36mcuda\u001b[0;34m(self, device, async)\u001b[0m\n\u001b[1;32m    296\u001b[0m \u001b[0;34m\u001b[0m\u001b[0m\n\u001b[1;32m    297\u001b[0m     \u001b[0;32mdef\u001b[0m \u001b[0mcuda\u001b[0m\u001b[0;34m(\u001b[0m\u001b[0mself\u001b[0m\u001b[0;34m,\u001b[0m \u001b[0mdevice\u001b[0m\u001b[0;34m=\u001b[0m\u001b[0mNone\u001b[0m\u001b[0;34m,\u001b[0m \u001b[0masync\u001b[0m\u001b[0;34m=\u001b[0m\u001b[0mFalse\u001b[0m\u001b[0;34m)\u001b[0m\u001b[0;34m:\u001b[0m\u001b[0;34m\u001b[0m\u001b[0m\n\u001b[0;32m--> 298\u001b[0;31m         \u001b[0;32mreturn\u001b[0m \u001b[0mCudaTransfer\u001b[0m\u001b[0;34m.\u001b[0m\u001b[0mapply\u001b[0m\u001b[0;34m(\u001b[0m\u001b[0mself\u001b[0m\u001b[0;34m,\u001b[0m \u001b[0mdevice\u001b[0m\u001b[0;34m,\u001b[0m \u001b[0masync\u001b[0m\u001b[0;34m)\u001b[0m\u001b[0;34m\u001b[0m\u001b[0m\n\u001b[0m\u001b[1;32m    299\u001b[0m \u001b[0;34m\u001b[0m\u001b[0m\n\u001b[1;32m    300\u001b[0m     \u001b[0;32mdef\u001b[0m \u001b[0mcpu\u001b[0m\u001b[0;34m(\u001b[0m\u001b[0mself\u001b[0m\u001b[0;34m)\u001b[0m\u001b[0;34m:\u001b[0m\u001b[0;34m\u001b[0m\u001b[0m\n",
      "\u001b[0;32m/home/nic/.local/lib/python2.7/site-packages/torch/autograd/_functions/tensor.pyc\u001b[0m in \u001b[0;36mforward\u001b[0;34m(ctx, i, device, async)\u001b[0m\n\u001b[1;32m    199\u001b[0m             \u001b[0;32mreturn\u001b[0m \u001b[0mi\u001b[0m\u001b[0;34m.\u001b[0m\u001b[0mcuda\u001b[0m\u001b[0;34m(\u001b[0m\u001b[0mdevice\u001b[0m\u001b[0;34m,\u001b[0m \u001b[0masync\u001b[0m\u001b[0;34m=\u001b[0m\u001b[0masync\u001b[0m\u001b[0;34m)\u001b[0m\u001b[0;34m\u001b[0m\u001b[0m\n\u001b[1;32m    200\u001b[0m         \u001b[0;32melse\u001b[0m\u001b[0;34m:\u001b[0m\u001b[0;34m\u001b[0m\u001b[0m\n\u001b[0;32m--> 201\u001b[0;31m             \u001b[0;32mreturn\u001b[0m \u001b[0mi\u001b[0m\u001b[0;34m.\u001b[0m\u001b[0mcuda\u001b[0m\u001b[0;34m(\u001b[0m\u001b[0masync\u001b[0m\u001b[0;34m=\u001b[0m\u001b[0masync\u001b[0m\u001b[0;34m)\u001b[0m\u001b[0;34m\u001b[0m\u001b[0m\n\u001b[0m\u001b[1;32m    202\u001b[0m \u001b[0;34m\u001b[0m\u001b[0m\n\u001b[1;32m    203\u001b[0m     \u001b[0;34m@\u001b[0m\u001b[0mstaticmethod\u001b[0m\u001b[0;34m\u001b[0m\u001b[0m\n",
      "\u001b[0;32m/home/nic/.local/lib/python2.7/site-packages/torch/_utils.pyc\u001b[0m in \u001b[0;36m_cuda\u001b[0;34m(self, device, async)\u001b[0m\n\u001b[1;32m     67\u001b[0m         \u001b[0;32melse\u001b[0m\u001b[0;34m:\u001b[0m\u001b[0;34m\u001b[0m\u001b[0m\n\u001b[1;32m     68\u001b[0m             \u001b[0mnew_type\u001b[0m \u001b[0;34m=\u001b[0m \u001b[0mgetattr\u001b[0m\u001b[0;34m(\u001b[0m\u001b[0mtorch\u001b[0m\u001b[0;34m.\u001b[0m\u001b[0mcuda\u001b[0m\u001b[0;34m,\u001b[0m \u001b[0mself\u001b[0m\u001b[0;34m.\u001b[0m\u001b[0m__class__\u001b[0m\u001b[0;34m.\u001b[0m\u001b[0m__name__\u001b[0m\u001b[0;34m)\u001b[0m\u001b[0;34m\u001b[0m\u001b[0m\n\u001b[0;32m---> 69\u001b[0;31m             \u001b[0;32mreturn\u001b[0m \u001b[0mnew_type\u001b[0m\u001b[0;34m(\u001b[0m\u001b[0mself\u001b[0m\u001b[0;34m.\u001b[0m\u001b[0msize\u001b[0m\u001b[0;34m(\u001b[0m\u001b[0;34m)\u001b[0m\u001b[0;34m)\u001b[0m\u001b[0;34m.\u001b[0m\u001b[0mcopy_\u001b[0m\u001b[0;34m(\u001b[0m\u001b[0mself\u001b[0m\u001b[0;34m,\u001b[0m \u001b[0masync\u001b[0m\u001b[0;34m)\u001b[0m\u001b[0;34m\u001b[0m\u001b[0m\n\u001b[0m\u001b[1;32m     70\u001b[0m \u001b[0;34m\u001b[0m\u001b[0m\n\u001b[1;32m     71\u001b[0m \u001b[0;34m\u001b[0m\u001b[0m\n",
      "\u001b[0;31mKeyboardInterrupt\u001b[0m: "
     ]
    }
   ],
   "source": [
    "# Compile and train model\n",
    "train_acc = torch.zeros((len(lr_search), nb_epochs))\n",
    "test_acc = torch.zeros((len(lr_search), nb_epochs))\n",
    "\n",
    "# Learning rate grid search\n",
    "for i, lr in enumerate(lr_search):\n",
    "    print(\"{}\\nLearning rate = {:.5f}\\n{}\".format(\"=\"*30, lr, \"-\"*30))\n",
    "    mlp_t = Newsgroups(layers, lr, momentum)\n",
    "    _, tr_acc, te_acc = mlp_t.train(nb_epochs, train_loader, test_loader)\n",
    "    train_acc[i], test_acc[i] = torch.FloatTensor(tr_acc), torch.FloatTensor(te_acc)"
   ]
  },
  {
   "cell_type": "code",
   "execution_count": 6,
   "metadata": {},
   "outputs": [
    {
     "data": {
      "image/png": "[encoded data removed]",
      "text/plain": [
       "<matplotlib.figure.Figure at 0x7f0dabb27390>"
      ]
     },
     "metadata": {},
     "output_type": "display_data"
    }
   ],
   "source": [
    "# Find best learning rate\n",
    "best_lr_idx = test_acc.max(1)[0].max(0)[1][0]\n",
    "best_lr = lr_search[best_lr_idx]\n",
    "\n",
    "# Plot accuracy per epoch for this learning rate\n",
    "plots_per_epoch([train_acc[best_lr_idx], test_acc[best_lr_idx]], \n",
    "    [\"Train\", \"Test\"], \"Accuracy\", \"Standardization: Best learning rate = {}\".format(best_lr))"
   ]
  },
  {
   "cell_type": "markdown",
   "metadata": {},
   "source": [
    "### Discussion"
   ]
  },
  {
   "cell_type": "markdown",
   "metadata": {},
   "source": [
    "**(a)**\n",
    "\n",
    "**(b)** If $\\epsilon = 0$ then a word in the vocabulary that never appears in any document will cause a division by zero. In PyTorch, this gives `inf` entries in the training set which causes problem when updating the weights. In order to resolve this issue, we can remove all zero-contribution words in the vocab such that $\\sigma_{\\text{train}} \\neq 0$ for all words.\n",
    " \n",
    "**(c)** The tf-idf representation gives more \"weight\" to words that are rare. In some sense, tf-idf disregards words that have low impact (e.g. \"the\", \"a\", \"and\") in the classification because they are common, and identifies rare occurences."
   ]
  },
  {
   "cell_type": "markdown",
   "metadata": {},
   "source": [
    "---\n",
    "## Variance in training"
   ]
  },
  {
   "cell_type": "code",
   "execution_count": 4,
   "metadata": {},
   "outputs": [],
   "source": [
    "# Load tfidf dataset\n",
    "train_data, test_data = load_newsgroups(train_filename, test_filename, \n",
    "                                layers[0], train_size, test_size, \"tfidf\")\n",
    "learning_rate = 0.2"
   ]
  },
  {
   "cell_type": "code",
   "execution_count": 6,
   "metadata": {},
   "outputs": [],
   "source": [
    "batch_size = 1\n",
    "train_loader = DataLoader(train_data, batch_size=batch_size)\n",
    "test_loader = DataLoader(test_data, batch_size=batch_size)"
   ]
  },
  {
   "cell_type": "code",
   "execution_count": 7,
   "metadata": {},
   "outputs": [
    {
     "name": "stdout",
     "output_type": "stream",
     "text": [
      "Epoch 1/1\n",
      "Update    0/5000 -- Cur Loss: 1.9969\n",
      "Update  100/5000 -- Cur Loss: 0.0000\n",
      "Update  200/5000 -- Cur Loss: 0.0000\n",
      "Update  300/5000 -- Cur Loss: 0.0000\n",
      "Update  400/5000 -- Cur Loss: 0.0000\n",
      "Update  500/5000 -- Cur Loss: 0.0000\n",
      "Update  600/5000 -- Cur Loss: 0.0000\n"
     ]
    },
    {
     "ename": "KeyboardInterrupt",
     "evalue": "",
     "output_type": "error",
     "traceback": [
      "\u001b[0;31m---------------------------------------------------------------------------\u001b[0m",
      "\u001b[0;31mKeyboardInterrupt\u001b[0m                         Traceback (most recent call last)",
      "\u001b[0;32m<ipython-input-7-257a4d9e8599>\u001b[0m in \u001b[0;36m<module>\u001b[0;34m()\u001b[0m\n\u001b[1;32m      1\u001b[0m \u001b[0mmlp_t\u001b[0m \u001b[0;34m=\u001b[0m \u001b[0mNewsgroups\u001b[0m\u001b[0;34m(\u001b[0m\u001b[0mlayers\u001b[0m\u001b[0;34m,\u001b[0m \u001b[0mlearning_rate\u001b[0m\u001b[0;34m,\u001b[0m \u001b[0mmomentum\u001b[0m\u001b[0;34m)\u001b[0m\u001b[0;34m\u001b[0m\u001b[0m\n\u001b[0;32m----> 2\u001b[0;31m \u001b[0mtrain_loss\u001b[0m\u001b[0;34m,\u001b[0m \u001b[0mtrain_acc\u001b[0m\u001b[0;34m,\u001b[0m \u001b[0mtest_acc\u001b[0m \u001b[0;34m=\u001b[0m \u001b[0mmlp_t\u001b[0m\u001b[0;34m.\u001b[0m\u001b[0mtrain\u001b[0m\u001b[0;34m(\u001b[0m\u001b[0;36m1\u001b[0m\u001b[0;34m,\u001b[0m \u001b[0mtrain_loader\u001b[0m\u001b[0;34m,\u001b[0m \u001b[0mtest_loader\u001b[0m\u001b[0;34m,\u001b[0m \u001b[0;36m5000\u001b[0m\u001b[0;34m)\u001b[0m\u001b[0;34m\u001b[0m\u001b[0m\n\u001b[0m",
      "\u001b[0;32m~/Documents/McGill/Graduate/Courses/IFT 6135/Assignments/A1/src/newsgroups_v2.py\u001b[0m in \u001b[0;36mtrain\u001b[0;34m(self, nb_epochs, train_loader, test_loader, nb_max_updates)\u001b[0m\n\u001b[1;32m    126\u001b[0m                 \u001b[0;31m# Zero gradients, perform a backward pass, and update the weights\u001b[0m\u001b[0;34m\u001b[0m\u001b[0;34m\u001b[0m\u001b[0m\n\u001b[1;32m    127\u001b[0m                 \u001b[0mself\u001b[0m\u001b[0;34m.\u001b[0m\u001b[0moptimizer\u001b[0m\u001b[0;34m.\u001b[0m\u001b[0mzero_grad\u001b[0m\u001b[0;34m(\u001b[0m\u001b[0;34m)\u001b[0m\u001b[0;34m\u001b[0m\u001b[0m\n\u001b[0;32m--> 128\u001b[0;31m                 \u001b[0mloss\u001b[0m\u001b[0;34m.\u001b[0m\u001b[0mbackward\u001b[0m\u001b[0;34m(\u001b[0m\u001b[0;34m)\u001b[0m\u001b[0;34m\u001b[0m\u001b[0m\n\u001b[0m\u001b[1;32m    129\u001b[0m                 \u001b[0mself\u001b[0m\u001b[0;34m.\u001b[0m\u001b[0moptimizer\u001b[0m\u001b[0;34m.\u001b[0m\u001b[0mstep\u001b[0m\u001b[0;34m(\u001b[0m\u001b[0;34m)\u001b[0m\u001b[0;34m\u001b[0m\u001b[0m\n\u001b[1;32m    130\u001b[0m \u001b[0;34m\u001b[0m\u001b[0m\n",
      "\u001b[0;32m/Library/Frameworks/Python.framework/Versions/3.6/lib/python3.6/site-packages/torch/optim/sgd.py\u001b[0m in \u001b[0;36mstep\u001b[0;34m(self, closure)\u001b[0m\n\u001b[1;32m     98\u001b[0m                         \u001b[0md_p\u001b[0m \u001b[0;34m=\u001b[0m \u001b[0mbuf\u001b[0m\u001b[0;34m\u001b[0m\u001b[0m\n\u001b[1;32m     99\u001b[0m \u001b[0;34m\u001b[0m\u001b[0m\n\u001b[0;32m--> 100\u001b[0;31m                 \u001b[0mp\u001b[0m\u001b[0;34m.\u001b[0m\u001b[0mdata\u001b[0m\u001b[0;34m.\u001b[0m\u001b[0madd_\u001b[0m\u001b[0;34m(\u001b[0m\u001b[0;34m-\u001b[0m\u001b[0mgroup\u001b[0m\u001b[0;34m[\u001b[0m\u001b[0;34m'lr'\u001b[0m\u001b[0;34m]\u001b[0m\u001b[0;34m,\u001b[0m \u001b[0md_p\u001b[0m\u001b[0;34m)\u001b[0m\u001b[0;34m\u001b[0m\u001b[0m\n\u001b[0m\u001b[1;32m    101\u001b[0m \u001b[0;34m\u001b[0m\u001b[0m\n\u001b[1;32m    102\u001b[0m         \u001b[0;32mreturn\u001b[0m \u001b[0mloss\u001b[0m\u001b[0;34m\u001b[0m\u001b[0m\n",
      "\u001b[0;31mKeyboardInterrupt\u001b[0m: "
     ]
    }
   ],
   "source": [
    "mlp_t = Newsgroups(layers, learning_rate, momentum)\n",
    "train_loss, train_acc, test_acc = mlp_t.train(1, train_loader, test_loader, 5000)"
   ]
  },
  {
   "cell_type": "code",
   "execution_count": 7,
   "metadata": {},
   "outputs": [
    {
     "ename": "NameError",
     "evalue": "name 'train_loss' is not defined",
     "output_type": "error",
     "traceback": [
      "\u001b[0;31m---------------------------------------------------------------------------\u001b[0m",
      "\u001b[0;31mNameError\u001b[0m                                 Traceback (most recent call last)",
      "\u001b[0;32m<ipython-input-7-38e1d3a27a7c>\u001b[0m in \u001b[0;36m<module>\u001b[0;34m()\u001b[0m\n\u001b[0;32m----> 1\u001b[0;31m \u001b[0mprint\u001b[0m\u001b[0;34m(\u001b[0m\u001b[0mtrain_loss\u001b[0m\u001b[0;34m)\u001b[0m\u001b[0;34m\u001b[0m\u001b[0m\n\u001b[0m",
      "\u001b[0;31mNameError\u001b[0m: name 'train_loss' is not defined"
     ]
    }
   ],
   "source": [
    "print(train_loss)"
   ]
  },
  {
   "cell_type": "code",
   "execution_count": 8,
   "metadata": {},
   "outputs": [],
   "source": [
    "batch_size = 100\n",
    "train_loader = DataLoader(train_data, batch_size=batch_size)\n",
    "test_loader = DataLoader(test_data, batch_size=batch_size)"
   ]
  },
  {
   "cell_type": "code",
   "execution_count": 10,
   "metadata": {
    "scrolled": true
   },
   "outputs": [
    {
     "name": "stdout",
     "output_type": "stream",
     "text": [
      "Epoch 1/100\n",
      "Update    0/5000 -- Cur Loss: 5.8199\n",
      "Update  100/5000 -- Cur Loss: 6.6925\n",
      "Epoch 2/100\n",
      "Update  200/5000 -- Cur Loss: 6.3561\n",
      "Epoch 3/100\n",
      "Update  300/5000 -- Cur Loss: 4.9169\n"
     ]
    },
    {
     "ename": "KeyboardInterrupt",
     "evalue": "",
     "output_type": "error",
     "traceback": [
      "\u001b[0;31m---------------------------------------------------------------------------\u001b[0m",
      "\u001b[0;31mKeyboardInterrupt\u001b[0m                         Traceback (most recent call last)",
      "\u001b[0;32m<ipython-input-10-35d2a593990c>\u001b[0m in \u001b[0;36m<module>\u001b[0;34m()\u001b[0m\n\u001b[0;32m----> 1\u001b[0;31m \u001b[0mtrain_loss\u001b[0m\u001b[0;34m,\u001b[0m \u001b[0mtrain_acc\u001b[0m\u001b[0;34m,\u001b[0m \u001b[0mtest_acc\u001b[0m \u001b[0;34m=\u001b[0m \u001b[0mmlp_t\u001b[0m\u001b[0;34m.\u001b[0m\u001b[0mtrain\u001b[0m\u001b[0;34m(\u001b[0m\u001b[0;36m100\u001b[0m\u001b[0;34m,\u001b[0m \u001b[0mtrain_loader\u001b[0m\u001b[0;34m,\u001b[0m \u001b[0mtest_loader\u001b[0m\u001b[0;34m,\u001b[0m \u001b[0;36m5000\u001b[0m\u001b[0;34m)\u001b[0m\u001b[0;34m\u001b[0m\u001b[0m\n\u001b[0m",
      "\u001b[0;32m~/Documents/McGill/Graduate/Courses/IFT 6135/Assignments/A1/src/newsgroups_v2.py\u001b[0m in \u001b[0;36mtrain\u001b[0;34m(self, nb_epochs, train_loader, test_loader, nb_max_updates)\u001b[0m\n\u001b[1;32m    125\u001b[0m \u001b[0;34m\u001b[0m\u001b[0m\n\u001b[1;32m    126\u001b[0m                 \u001b[0;31m# Zero gradients, perform a backward pass, and update the weights\u001b[0m\u001b[0;34m\u001b[0m\u001b[0;34m\u001b[0m\u001b[0m\n\u001b[0;32m--> 127\u001b[0;31m                 \u001b[0mself\u001b[0m\u001b[0;34m.\u001b[0m\u001b[0moptimizer\u001b[0m\u001b[0;34m.\u001b[0m\u001b[0mzero_grad\u001b[0m\u001b[0;34m(\u001b[0m\u001b[0;34m)\u001b[0m\u001b[0;34m\u001b[0m\u001b[0m\n\u001b[0m\u001b[1;32m    128\u001b[0m                 \u001b[0mloss\u001b[0m\u001b[0;34m.\u001b[0m\u001b[0mbackward\u001b[0m\u001b[0;34m(\u001b[0m\u001b[0;34m)\u001b[0m\u001b[0;34m\u001b[0m\u001b[0m\n\u001b[1;32m    129\u001b[0m                 \u001b[0mself\u001b[0m\u001b[0;34m.\u001b[0m\u001b[0moptimizer\u001b[0m\u001b[0;34m.\u001b[0m\u001b[0mstep\u001b[0m\u001b[0;34m(\u001b[0m\u001b[0;34m)\u001b[0m\u001b[0;34m\u001b[0m\u001b[0m\n",
      "\u001b[0;32m/Library/Frameworks/Python.framework/Versions/3.6/lib/python3.6/site-packages/torch/autograd/variable.py\u001b[0m in \u001b[0;36mbackward\u001b[0;34m(self, gradient, retain_graph, create_graph, retain_variables)\u001b[0m\n\u001b[1;32m    165\u001b[0m                 \u001b[0mVariable\u001b[0m\u001b[0;34m.\u001b[0m\u001b[0;34m\u001b[0m\u001b[0m\n\u001b[1;32m    166\u001b[0m         \"\"\"\n\u001b[0;32m--> 167\u001b[0;31m         \u001b[0mtorch\u001b[0m\u001b[0;34m.\u001b[0m\u001b[0mautograd\u001b[0m\u001b[0;34m.\u001b[0m\u001b[0mbackward\u001b[0m\u001b[0;34m(\u001b[0m\u001b[0mself\u001b[0m\u001b[0;34m,\u001b[0m \u001b[0mgradient\u001b[0m\u001b[0;34m,\u001b[0m \u001b[0mretain_graph\u001b[0m\u001b[0;34m,\u001b[0m \u001b[0mcreate_graph\u001b[0m\u001b[0;34m,\u001b[0m \u001b[0mretain_variables\u001b[0m\u001b[0;34m)\u001b[0m\u001b[0;34m\u001b[0m\u001b[0m\n\u001b[0m\u001b[1;32m    168\u001b[0m \u001b[0;34m\u001b[0m\u001b[0m\n\u001b[1;32m    169\u001b[0m     \u001b[0;32mdef\u001b[0m \u001b[0mregister_hook\u001b[0m\u001b[0;34m(\u001b[0m\u001b[0mself\u001b[0m\u001b[0;34m,\u001b[0m \u001b[0mhook\u001b[0m\u001b[0;34m)\u001b[0m\u001b[0;34m:\u001b[0m\u001b[0;34m\u001b[0m\u001b[0m\n",
      "\u001b[0;32m/Library/Frameworks/Python.framework/Versions/3.6/lib/python3.6/site-packages/torch/autograd/__init__.py\u001b[0m in \u001b[0;36mbackward\u001b[0;34m(variables, grad_variables, retain_graph, create_graph, retain_variables)\u001b[0m\n\u001b[1;32m     97\u001b[0m \u001b[0;34m\u001b[0m\u001b[0m\n\u001b[1;32m     98\u001b[0m     Variable._execution_engine.run_backward(\n\u001b[0;32m---> 99\u001b[0;31m         variables, grad_variables, retain_graph)\n\u001b[0m\u001b[1;32m    100\u001b[0m \u001b[0;34m\u001b[0m\u001b[0m\n\u001b[1;32m    101\u001b[0m \u001b[0;34m\u001b[0m\u001b[0m\n",
      "\u001b[0;31mKeyboardInterrupt\u001b[0m: "
     ]
    }
   ],
   "source": [
    "train_loss, train_acc, test_acc = mlp_t.train(100, train_loader, test_loader, 5000)"
   ]
  },
  {
   "cell_type": "code",
   "execution_count": null,
   "metadata": {},
   "outputs": [],
   "source": [
    "train_loss"
   ]
  },
  {
   "cell_type": "code",
   "execution_count": null,
   "metadata": {},
   "outputs": [],
   "source": [
    "plot_per_epoch(train_loss, \"Loss\", \"Vochier\")"
   ]
  },
  {
   "cell_type": "code",
   "execution_count": null,
   "metadata": {},
   "outputs": [],
   "source": []
  }
 ],
 "metadata": {
  "kernelspec": {
   "display_name": "Python 2",
   "language": "python",
   "name": "python2"
  },
  "language_info": {
   "codemirror_mode": {
    "name": "ipython",
    "version": 2
   },
   "file_extension": ".py",
   "mimetype": "text/x-python",
   "name": "python",
   "nbconvert_exporter": "python",
   "pygments_lexer": "ipython2",
   "version": "2.7.12"
  }
 },
 "nbformat": 4,
 "nbformat_minor": 2
}
