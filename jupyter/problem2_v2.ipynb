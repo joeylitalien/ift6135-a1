{
 "cells": [
  {
   "cell_type": "markdown",
   "metadata": {},
   "source": [
    "# Problem 2: Newsgroups"
   ]
  },
  {
   "cell_type": "markdown",
   "metadata": {},
   "source": [
    "The code for this multilayer perceptron can be found in `newsgroups.py`. The module `utils.py` contains helper functions to load the dataset, display progress bar, plot graphs, etc."
   ]
  },
  {
   "cell_type": "code",
   "execution_count": 8,
   "metadata": {},
   "outputs": [],
   "source": [
    "import sys\n",
    "sys.path.append('../src/')\n",
    "from newsgroups_v2 import *"
   ]
  },
  {
   "cell_type": "markdown",
   "metadata": {},
   "source": [
    "---\n",
    "## Building the Model"
   ]
  },
  {
   "cell_type": "markdown",
   "metadata": {},
   "source": [
    "We initialize the parameters of the single-layer MLP."
   ]
  },
  {
   "cell_type": "code",
   "execution_count": 14,
   "metadata": {},
   "outputs": [],
   "source": [
    "# Model parameters\n",
    "batch_size = 64\n",
    "layers = [61188, 100, 20]\n",
    "learning_rate = 1e-4\n",
    "momentum = 0.9\n",
    "eps = 1e-5\n",
    "train_filename = \"../data/newsgroups/matlab/train\"\n",
    "test_filename = \"../data/newsgroups/matlab/test\"\n",
    "saved = \"../data/newsgroups/saved/\"\n",
    "train_size = 11269\n",
    "test_size = 7505"
   ]
  },
  {
   "cell_type": "markdown",
   "metadata": {},
   "source": [
    "We now load the data into Torch tensors."
   ]
  },
  {
   "cell_type": "code",
   "execution_count": 16,
   "metadata": {},
   "outputs": [],
   "source": [
    "lr_search = [1e-1, 1e-2, 1e-3, 1e-4, 1e-5]\n",
    "nb_epochs = 20"
   ]
  },
  {
   "cell_type": "markdown",
   "metadata": {},
   "source": [
    "### No Preprocessing"
   ]
  },
  {
   "cell_type": "code",
   "execution_count": 17,
   "metadata": {},
   "outputs": [],
   "source": [
    "# Load dataset\n",
    "train_data, test_data = load_newsgroups(train_filename, test_filename, \n",
    "                                layers[0], train_size, test_size, \"count\")\n",
    "train_loader = DataLoader(train_data, batch_size=batch_size)\n",
    "test_loader = DataLoader(test_data, batch_size=batch_size)"
   ]
  },
  {
   "cell_type": "code",
   "execution_count": 18,
   "metadata": {},
   "outputs": [
    {
     "name": "stdout",
     "output_type": "stream",
     "text": [
      "==============================\n",
      "Learning rate = 0.10000\n",
      "------------------------------\n",
      "Epoch 1/20\n",
      "Avg loss: 12.9437 -- Train acc: 0.0420 -- Test acc: 0.0421\n",
      "Epoch 2/20\n",
      "Avg loss: 10.7540 -- Train acc: 0.0435 -- Test acc: 0.0433\n",
      "Epoch 3/20\n",
      "Avg loss: 20.9921 -- Train acc: 0.0441 -- Test acc: 0.0438\n",
      "Epoch 4/20\n",
      "Avg loss: 8.2524 -- Train acc: 0.0425 -- Test acc: 0.0421\n",
      "Epoch 5/20\n",
      "Avg loss: 8.4540 -- Train acc: 0.0415 -- Test acc: 0.0416\n",
      "Epoch 6/20\n",
      "Avg loss: 11.3564 -- Train acc: 0.0410 -- Test acc: 0.0410\n",
      "Epoch 7/20\n",
      "Avg loss: 10.0223 -- Train acc: 0.0429 -- Test acc: 0.0432\n",
      "Epoch 8/20\n",
      "Avg loss: 4.5492 -- Train acc: 0.0438 -- Test acc: 0.0441\n",
      "Epoch 9/20\n",
      "Avg loss: 4.5823 -- Train acc: 0.0433 -- Test acc: 0.0444\n",
      "Epoch 10/20\n",
      "Avg loss: 4.5794 -- Train acc: 0.0433 -- Test acc: 0.0429\n",
      "Epoch 11/20\n",
      "Avg loss: 4.5442 -- Train acc: 0.0433 -- Test acc: 0.0428\n",
      "Epoch 12/20\n",
      "Avg loss: 4.5436 -- Train acc: 0.0433 -- Test acc: 0.0428\n",
      "Epoch 13/20\n",
      "Avg loss: 4.5435 -- Train acc: 0.0433 -- Test acc: 0.0428\n",
      "Epoch 14/20\n",
      "Avg loss: 4.5433 -- Train acc: 0.0435 -- Test acc: 0.0428\n",
      "Epoch 15/20\n",
      "Avg loss: 4.5404 -- Train acc: 0.0442 -- Test acc: 0.0430\n",
      "Epoch 16/20\n",
      "Avg loss: 5.5097 -- Train acc: 0.0434 -- Test acc: 0.0428\n",
      "Epoch 17/20\n",
      "Avg loss: 4.5463 -- Train acc: 0.0434 -- Test acc: 0.0428\n",
      "Epoch 18/20\n",
      "Avg loss: 4.5435 -- Train acc: 0.0434 -- Test acc: 0.0428\n",
      "Epoch 19/20\n",
      "Avg loss: 6.2477 -- Train acc: 0.0434 -- Test acc: 0.0428\n",
      "Epoch 20/20\n",
      "Avg loss: 4.5461 -- Train acc: 0.0434 -- Test acc: 0.0428\n",
      "Training done! Elapsed time: 0:00:44\n",
      "\n",
      "==============================\n",
      "Learning rate = 0.01000\n",
      "------------------------------\n",
      "Epoch 1/20\n",
      "Avg loss: 3.6272 -- Train acc: 0.0552 -- Test acc: 0.0544\n",
      "Epoch 2/20\n",
      "Avg loss: 3.2624 -- Train acc: 0.0561 -- Test acc: 0.0555\n",
      "Epoch 3/20\n",
      "Avg loss: 3.3356 -- Train acc: 0.0576 -- Test acc: 0.0559\n",
      "Epoch 4/20\n",
      "Avg loss: 3.2752 -- Train acc: 0.0542 -- Test acc: 0.0530\n",
      "Epoch 5/20\n",
      "Avg loss: 3.2807 -- Train acc: 0.0596 -- Test acc: 0.0576\n",
      "Epoch 6/20\n",
      "Avg loss: 3.2775 -- Train acc: 0.0597 -- Test acc: 0.0579\n",
      "Epoch 7/20\n",
      "Avg loss: 3.4017 -- Train acc: 0.0529 -- Test acc: 0.0530\n",
      "Epoch 8/20\n",
      "Avg loss: 3.2423 -- Train acc: 0.0555 -- Test acc: 0.0542\n",
      "Epoch 9/20\n",
      "Avg loss: 3.2469 -- Train acc: 0.0581 -- Test acc: 0.0552\n",
      "Epoch 10/20\n",
      "Avg loss: 3.3115 -- Train acc: 0.0620 -- Test acc: 0.0597\n",
      "Epoch 11/20\n",
      "Avg loss: 3.3315 -- Train acc: 0.0810 -- Test acc: 0.0773\n",
      "Epoch 12/20\n",
      "Avg loss: 3.2201 -- Train acc: 0.0878 -- Test acc: 0.0833\n",
      "Epoch 13/20\n",
      "Avg loss: 3.1910 -- Train acc: 0.0845 -- Test acc: 0.0787\n",
      "Epoch 14/20\n",
      "Avg loss: 3.1922 -- Train acc: 0.0895 -- Test acc: 0.0846\n",
      "Epoch 15/20\n",
      "Avg loss: 3.3474 -- Train acc: 0.0894 -- Test acc: 0.0810\n",
      "Epoch 16/20\n",
      "Avg loss: 3.3206 -- Train acc: 0.0681 -- Test acc: 0.0630\n",
      "Epoch 17/20\n",
      "Avg loss: 3.2112 -- Train acc: 0.0679 -- Test acc: 0.0642\n",
      "Epoch 18/20\n",
      "Avg loss: 3.2390 -- Train acc: 0.0862 -- Test acc: 0.0791\n",
      "Epoch 19/20\n",
      "Avg loss: 3.2911 -- Train acc: 0.0948 -- Test acc: 0.0908\n",
      "Epoch 20/20\n",
      "Avg loss: 3.3154 -- Train acc: 0.0894 -- Test acc: 0.0881\n",
      "Training done! Elapsed time: 0:00:45\n",
      "\n",
      "==============================\n",
      "Learning rate = 0.00100\n",
      "------------------------------\n",
      "Epoch 1/20\n",
      "Avg loss: 3.2707 -- Train acc: 0.0621 -- Test acc: 0.0609\n",
      "Epoch 2/20\n",
      "Avg loss: 3.0251 -- Train acc: 0.0718 -- Test acc: 0.0697\n",
      "Epoch 3/20\n",
      "Avg loss: 3.0175 -- Train acc: 0.0959 -- Test acc: 0.0879\n",
      "Epoch 4/20\n",
      "Avg loss: 3.0170 -- Train acc: 0.1066 -- Test acc: 0.1004\n",
      "Epoch 5/20\n",
      "Avg loss: 3.0404 -- Train acc: 0.0892 -- Test acc: 0.0842\n",
      "Epoch 6/20\n",
      "Avg loss: 3.0098 -- Train acc: 0.1045 -- Test acc: 0.0976\n",
      "Epoch 7/20\n",
      "Avg loss: 3.0107 -- Train acc: 0.1005 -- Test acc: 0.0963\n",
      "Epoch 8/20\n",
      "Avg loss: 2.9985 -- Train acc: 0.1020 -- Test acc: 0.0961\n",
      "Epoch 9/20\n",
      "Avg loss: 3.0171 -- Train acc: 0.0976 -- Test acc: 0.0957\n",
      "Epoch 10/20\n",
      "Avg loss: 2.9983 -- Train acc: 0.1053 -- Test acc: 0.1032\n",
      "Epoch 11/20\n",
      "Avg loss: 2.9668 -- Train acc: 0.1086 -- Test acc: 0.1049\n",
      "Epoch 12/20\n",
      "Avg loss: 2.9639 -- Train acc: 0.1108 -- Test acc: 0.1055\n",
      "Epoch 13/20\n",
      "Avg loss: 2.9777 -- Train acc: 0.1117 -- Test acc: 0.1047\n",
      "Epoch 14/20\n",
      "Avg loss: 2.9484 -- Train acc: 0.1087 -- Test acc: 0.1041\n",
      "Epoch 15/20\n",
      "Avg loss: 2.9453 -- Train acc: 0.1178 -- Test acc: 0.1078\n",
      "Epoch 16/20\n",
      "Avg loss: 2.9392 -- Train acc: 0.1172 -- Test acc: 0.1096\n",
      "Epoch 17/20\n",
      "Avg loss: 2.9437 -- Train acc: 0.1314 -- Test acc: 0.1266\n",
      "Epoch 18/20\n",
      "Avg loss: 2.9419 -- Train acc: 0.1344 -- Test acc: 0.1168\n",
      "Epoch 19/20\n",
      "Avg loss: 2.9186 -- Train acc: 0.1314 -- Test acc: 0.1217\n",
      "Epoch 20/20\n",
      "Avg loss: 2.9323 -- Train acc: 0.1186 -- Test acc: 0.1106\n",
      "Training done! Elapsed time: 0:00:45\n",
      "\n",
      "==============================\n",
      "Learning rate = 0.00010\n",
      "------------------------------\n",
      "Epoch 1/20\n",
      "Avg loss: 3.0932 -- Train acc: 0.0653 -- Test acc: 0.0599\n",
      "Epoch 2/20\n",
      "Avg loss: 2.9988 -- Train acc: 0.0731 -- Test acc: 0.0681\n",
      "Epoch 3/20\n",
      "Avg loss: 2.9969 -- Train acc: 0.0847 -- Test acc: 0.0732\n",
      "Epoch 4/20\n",
      "Avg loss: 2.9965 -- Train acc: 0.0898 -- Test acc: 0.0821\n",
      "Epoch 5/20\n",
      "Avg loss: 2.9962 -- Train acc: 0.1044 -- Test acc: 0.0882\n",
      "Epoch 6/20\n",
      "Avg loss: 2.9944 -- Train acc: 0.1222 -- Test acc: 0.1090\n",
      "Epoch 7/20\n",
      "Avg loss: 2.9911 -- Train acc: 0.1292 -- Test acc: 0.1074\n",
      "Epoch 8/20\n",
      "Avg loss: 2.9881 -- Train acc: 0.1307 -- Test acc: 0.1137\n",
      "Epoch 9/20\n",
      "Avg loss: 2.9868 -- Train acc: 0.1419 -- Test acc: 0.1156\n",
      "Epoch 10/20\n",
      "Avg loss: 2.9797 -- Train acc: 0.1521 -- Test acc: 0.1308\n",
      "Epoch 11/20\n",
      "Avg loss: 2.9767 -- Train acc: 0.1517 -- Test acc: 0.1303\n",
      "Epoch 12/20\n",
      "Avg loss: 2.9658 -- Train acc: 0.1638 -- Test acc: 0.1394\n",
      "Epoch 13/20\n",
      "Avg loss: 2.9580 -- Train acc: 0.1682 -- Test acc: 0.1474\n",
      "Epoch 14/20\n",
      "Avg loss: 2.9495 -- Train acc: 0.1747 -- Test acc: 0.1496\n",
      "Epoch 15/20\n",
      "Avg loss: 2.9400 -- Train acc: 0.1868 -- Test acc: 0.1647\n",
      "Epoch 16/20\n",
      "Avg loss: 2.9226 -- Train acc: 0.1882 -- Test acc: 0.1647\n",
      "Epoch 17/20\n",
      "Avg loss: 2.9176 -- Train acc: 0.1929 -- Test acc: 0.1668\n",
      "Epoch 18/20\n",
      "Avg loss: 2.9020 -- Train acc: 0.2037 -- Test acc: 0.1704\n",
      "Epoch 19/20\n",
      "Avg loss: 2.8880 -- Train acc: 0.2027 -- Test acc: 0.1688\n",
      "Epoch 20/20\n",
      "Avg loss: 2.8758 -- Train acc: 0.2129 -- Test acc: 0.1776\n",
      "Training done! Elapsed time: 0:00:44\n",
      "\n",
      "==============================\n",
      "Learning rate = 0.00001\n",
      "------------------------------\n",
      "Epoch 1/20\n",
      "Avg loss: 3.0827 -- Train acc: 0.0606 -- Test acc: 0.0520\n",
      "Epoch 2/20\n",
      "Avg loss: 3.0285 -- Train acc: 0.0651 -- Test acc: 0.0599\n",
      "Epoch 3/20\n",
      "Avg loss: 3.0051 -- Train acc: 0.0699 -- Test acc: 0.0614\n",
      "Epoch 4/20\n",
      "Avg loss: 2.9952 -- Train acc: 0.0743 -- Test acc: 0.0659\n",
      "Epoch 5/20\n",
      "Avg loss: 2.9883 -- Train acc: 0.0761 -- Test acc: 0.0690\n",
      "Epoch 6/20\n",
      "Avg loss: 2.9828 -- Train acc: 0.0796 -- Test acc: 0.0710\n",
      "Epoch 7/20\n",
      "Avg loss: 2.9773 -- Train acc: 0.0848 -- Test acc: 0.0749\n",
      "Epoch 8/20\n",
      "Avg loss: 2.9717 -- Train acc: 0.0878 -- Test acc: 0.0765\n",
      "Epoch 9/20\n",
      "Avg loss: 2.9665 -- Train acc: 0.0943 -- Test acc: 0.0805\n",
      "Epoch 10/20\n",
      "Avg loss: 2.9611 -- Train acc: 0.0979 -- Test acc: 0.0834\n",
      "Epoch 11/20\n",
      "Avg loss: 2.9559 -- Train acc: 0.1027 -- Test acc: 0.0863\n",
      "Epoch 12/20\n",
      "Avg loss: 2.9506 -- Train acc: 0.1090 -- Test acc: 0.0896\n",
      "Epoch 13/20\n",
      "Avg loss: 2.9456 -- Train acc: 0.1146 -- Test acc: 0.0926\n",
      "Epoch 14/20\n",
      "Avg loss: 2.9404 -- Train acc: 0.1207 -- Test acc: 0.0975\n",
      "Epoch 15/20\n",
      "Avg loss: 2.9351 -- Train acc: 0.1256 -- Test acc: 0.1028\n",
      "Epoch 16/20\n",
      "Avg loss: 2.9300 -- Train acc: 0.1315 -- Test acc: 0.1070\n",
      "Epoch 17/20\n",
      "Avg loss: 2.9248 -- Train acc: 0.1381 -- Test acc: 0.1119\n",
      "Epoch 18/20\n",
      "Avg loss: 2.9197 -- Train acc: 0.1434 -- Test acc: 0.1157\n",
      "Epoch 19/20\n",
      "Avg loss: 2.9148 -- Train acc: 0.1493 -- Test acc: 0.1221\n",
      "Epoch 20/20\n",
      "Avg loss: 2.9097 -- Train acc: 0.1559 -- Test acc: 0.1259\n",
      "Training done! Elapsed time: 0:00:44\n",
      "\n"
     ]
    }
   ],
   "source": [
    "# Build and train model\n",
    "train_acc, test_acc = torch.zeros(len(lr_search), nb_epochs), torch.zeros(len(lr_search), nb_epochs) \n",
    "\n",
    "for i, lr in enumerate(lr_search):\n",
    "    print(\"%s\\nLearning rate = %.5f\\n%s\" % (\"=\"*30, lr, \"-\"*30))\n",
    "    mlp_t = Newsgroups(layers, lr, momentum)\n",
    "    _, train, test = mlp_t.train(nb_epochs, train_loader, test_loader)\n",
    "    train_acc[i] = torch.FloatTensor(train)\n",
    "    test_acc[i] = torch.FloatTensor(test)"
   ]
  },
  {
   "cell_type": "code",
   "execution_count": 32,
   "metadata": {},
   "outputs": [
    {
     "data": {
      "image/png": "[encoded data removed]",
      "text/plain": [
       "<matplotlib.figure.Figure at 0x7fa08445a610>"
      ]
     },
     "metadata": {},
     "output_type": "display_data"
    }
   ],
   "source": [
    "# Find best learning rate\n",
    "best_lr_idx = test_acc.max(1)[0].max(0)[1][0]\n",
    "best_lr = lr_search[best_lr_idx]\n",
    "plots_per_epoch([train_acc[best_lr_idx], test_acc[best_lr_idx]], [\"Train\", \"Test\"], \"Accuracy\", \"best lr = {}\".format(best_lr))"
   ]
  },
  {
   "cell_type": "markdown",
   "metadata": {},
   "source": [
    "### TF-IDF"
   ]
  },
  {
   "cell_type": "code",
   "execution_count": 4,
   "metadata": {},
   "outputs": [],
   "source": [
    "# Load dataset\n",
    "train_data, test_data = load_newsgroups(train_filename, test_filename, \n",
    "                                layers[0], train_size, test_size, \"tfidf\")\n",
    "train_loader = DataLoader(train_data, batch_size=batch_size)\n",
    "test_loader = DataLoader(test_data, batch_size=batch_size)"
   ]
  },
  {
   "cell_type": "code",
   "execution_count": 33,
   "metadata": {},
   "outputs": [
    {
     "name": "stdout",
     "output_type": "stream",
     "text": [
      "==============================\n",
      "Learning rate = 0.10000\n",
      "------------------------------\n",
      "Epoch 1/10\n",
      "Avg loss: 12.2553 -- Train acc: 0.0420 -- Test acc: 0.0432\n",
      "Epoch 2/10\n",
      "Avg loss: 14.7035 -- Train acc: 0.0427 -- Test acc: 0.0429\n",
      "Epoch 3/10\n",
      "Avg loss: 17.1478 -- Train acc: 0.0433 -- Test acc: 0.0440\n",
      "Epoch 4/10\n",
      "Avg loss: 17.4266 -- Train acc: 0.0430 -- Test acc: 0.0432\n",
      "Epoch 5/10\n",
      "Avg loss: 18.2547 -- Train acc: 0.0438 -- Test acc: 0.0432\n",
      "Epoch 6/10\n",
      "Avg loss: 4.5566 -- Train acc: 0.0437 -- Test acc: 0.0432\n",
      "Epoch 7/10\n",
      "Avg loss: 4.5410 -- Train acc: 0.0437 -- Test acc: 0.0432\n",
      "Epoch 8/10\n",
      "Avg loss: 5.4732 -- Train acc: 0.0437 -- Test acc: 0.0432\n",
      "Epoch 9/10\n",
      "Avg loss: 4.5493 -- Train acc: 0.0437 -- Test acc: 0.0432\n",
      "Epoch 10/10\n",
      "Avg loss: 4.5434 -- Train acc: 0.0437 -- Test acc: 0.0432\n",
      "Training done! Elapsed time: 0:00:22\n",
      "\n",
      "==============================\n",
      "Learning rate = 0.01000\n",
      "------------------------------\n",
      "Epoch 1/10\n",
      "Avg loss: 3.5126 -- Train acc: 0.0559 -- Test acc: 0.0561\n",
      "Epoch 2/10\n",
      "Avg loss: 3.3018 -- Train acc: 0.0561 -- Test acc: 0.0553\n",
      "Epoch 3/10\n",
      "Avg loss: 3.4463 -- Train acc: 0.0574 -- Test acc: 0.0563\n",
      "Epoch 4/10\n",
      "Avg loss: 3.2667 -- Train acc: 0.0570 -- Test acc: 0.0564\n",
      "Epoch 5/10\n",
      "Avg loss: 3.4459 -- Train acc: 0.0586 -- Test acc: 0.0572\n",
      "Epoch 6/10\n",
      "Avg loss: 3.3809 -- Train acc: 0.0755 -- Test acc: 0.0735\n",
      "Epoch 7/10\n",
      "Avg loss: 3.5655 -- Train acc: 0.0860 -- Test acc: 0.0820\n",
      "Epoch 8/10\n",
      "Avg loss: 3.2038 -- Train acc: 0.0880 -- Test acc: 0.0832\n",
      "Epoch 9/10\n",
      "Avg loss: 3.2000 -- Train acc: 0.0864 -- Test acc: 0.0820\n",
      "Epoch 10/10\n",
      "Avg loss: 3.1781 -- Train acc: 0.0876 -- Test acc: 0.0830\n",
      "Training done! Elapsed time: 0:00:22\n",
      "\n",
      "==============================\n",
      "Learning rate = 0.00100\n",
      "------------------------------\n",
      "Epoch 1/10\n",
      "Avg loss: 3.2167 -- Train acc: 0.0591 -- Test acc: 0.0565\n",
      "Epoch 2/10\n",
      "Avg loss: 3.0206 -- Train acc: 0.0630 -- Test acc: 0.0581\n",
      "Epoch 3/10\n",
      "Avg loss: 3.0186 -- Train acc: 0.0694 -- Test acc: 0.0621\n",
      "Epoch 4/10\n",
      "Avg loss: 3.0169 -- Train acc: 0.0685 -- Test acc: 0.0620\n",
      "Epoch 5/10\n",
      "Avg loss: 3.0178 -- Train acc: 0.0725 -- Test acc: 0.0626\n",
      "Epoch 6/10\n",
      "Avg loss: 3.0136 -- Train acc: 0.0765 -- Test acc: 0.0674\n",
      "Epoch 7/10\n",
      "Avg loss: 3.0252 -- Train acc: 0.0862 -- Test acc: 0.0765\n",
      "Epoch 8/10\n",
      "Avg loss: 3.0072 -- Train acc: 0.1060 -- Test acc: 0.0932\n",
      "Epoch 9/10\n",
      "Avg loss: 3.0100 -- Train acc: 0.1095 -- Test acc: 0.1005\n",
      "Epoch 10/10\n",
      "Avg loss: 3.0058 -- Train acc: 0.1167 -- Test acc: 0.1073\n",
      "Training done! Elapsed time: 0:00:22\n",
      "\n",
      "==============================\n",
      "Learning rate = 0.00010\n",
      "------------------------------\n",
      "Epoch 1/10\n",
      "Avg loss: 3.1365 -- Train acc: 0.0621 -- Test acc: 0.0612\n",
      "Epoch 2/10\n",
      "Avg loss: 3.0025 -- Train acc: 0.0648 -- Test acc: 0.0614\n",
      "Epoch 3/10\n",
      "Avg loss: 2.9970 -- Train acc: 0.0820 -- Test acc: 0.0757\n",
      "Epoch 4/10\n",
      "Avg loss: 2.9950 -- Train acc: 0.0935 -- Test acc: 0.0871\n",
      "Epoch 5/10\n",
      "Avg loss: 2.9929 -- Train acc: 0.0980 -- Test acc: 0.0935\n",
      "Epoch 6/10\n",
      "Avg loss: 2.9925 -- Train acc: 0.1149 -- Test acc: 0.1035\n",
      "Epoch 7/10\n",
      "Avg loss: 2.9900 -- Train acc: 0.1261 -- Test acc: 0.1119\n",
      "Epoch 8/10\n",
      "Avg loss: 2.9865 -- Train acc: 0.1301 -- Test acc: 0.1123\n",
      "Epoch 9/10\n",
      "Avg loss: 2.9816 -- Train acc: 0.1484 -- Test acc: 0.1238\n",
      "Epoch 10/10\n",
      "Avg loss: 2.9771 -- Train acc: 0.1446 -- Test acc: 0.1229\n",
      "Training done! Elapsed time: 0:00:22\n",
      "\n"
     ]
    }
   ],
   "source": [
    "# Build and train model\n",
    "train_acc, test_acc = torch.zeros(len(lr_search), nb_epochs), torch.zeros(len(lr_search), nb_epochs) \n",
    "\n",
    "for i, lr in enumerate(lr_search):\n",
    "    print(\"%s\\nLearning rate = %.5f\\n%s\" % (\"=\"*30, lr, \"-\"*30))\n",
    "    mlp_t = Newsgroups(layers, lr, momentum)\n",
    "    _, train, test = mlp_t.train(nb_epochs, train_loader, test_loader)\n",
    "    train_acc[i] = torch.FloatTensor(train)\n",
    "    test_acc[i] = torch.FloatTensor(test)"
   ]
  },
  {
   "cell_type": "code",
   "execution_count": 35,
   "metadata": {},
   "outputs": [
    {
     "data": {
      "image/png": "[encoded data removed]",
      "text/plain": [
       "<matplotlib.figure.Figure at 0x7fa0a8cb8f50>"
      ]
     },
     "metadata": {},
     "output_type": "display_data"
    }
   ],
   "source": [
    "# Find best learning rate\n",
    "best_lr_idx = test_acc.max(1)[0].max(0)[1][0]\n",
    "best_lr = lr_search[best_lr_idx]\n",
    "plots_per_epoch([train_acc[best_lr_idx], test_acc[best_lr_idx]], [\"Train\", \"Test\"], \"Accuracy\", \"best lr = {}\".format(best_lr))"
   ]
  },
  {
   "cell_type": "markdown",
   "metadata": {},
   "source": [
    "### Standardization"
   ]
  },
  {
   "cell_type": "code",
   "execution_count": 3,
   "metadata": {},
   "outputs": [],
   "source": [
    "# Load dataset\n",
    "train_data, test_data = load_newsgroups(train_filename, test_filename, \n",
    "                                layers[0], train_size, test_size, \"stand\", eps)\n",
    "train_loader = DataLoader(train_data, batch_size=batch_size)\n",
    "test_loader = DataLoader(test_data, batch_size=batch_size)"
   ]
  },
  {
   "cell_type": "code",
   "execution_count": 28,
   "metadata": {},
   "outputs": [
    {
     "name": "stdout",
     "output_type": "stream",
     "text": [
      "==============================\n",
      "Learning rate = 0.10000\n",
      "------------------------------\n",
      "Epoch 1/3\n",
      "Avg loss: 10.8232 -- Train acc: 0.0410 -- Test acc: 0.0413\n",
      "Epoch 2/3\n",
      "Avg loss: 7.8368 -- Train acc: 0.0425 -- Test acc: 0.0430\n",
      "Epoch 3/3\n",
      "Avg loss: 10.3764 -- Train acc: 0.0452 -- Test acc: 0.0438\n",
      "Training done! Elapsed time: 0:00:06\n",
      "\n",
      "==============================\n",
      "Learning rate = 0.01000\n",
      "------------------------------\n",
      "Epoch 1/3\n",
      "Avg loss: 3.4557 -- Train acc: 0.0557 -- Test acc: 0.0552\n",
      "Epoch 2/3\n",
      "Avg loss: 3.4261 -- Train acc: 0.0558 -- Test acc: 0.0556\n",
      "Epoch 3/3\n",
      "Avg loss: 3.3812 -- Train acc: 0.0581 -- Test acc: 0.0514\n",
      "Training done! Elapsed time: 0:00:06\n",
      "\n"
     ]
    }
   ],
   "source": [
    "# Build and train model\n",
    "train_acc, test_acc = torch.zeros(len(lr_search), nb_epochs), torch.zeros(len(lr_search), nb_epochs) \n",
    "\n",
    "for i, lr in enumerate(lr_search):\n",
    "    print(\"%s\\nLearning rate = %.5f\\n%s\" % (\"=\"*30, lr, \"-\"*30))\n",
    "    mlp_t = Newsgroups(layers, lr, momentum)\n",
    "    _, train, test = mlp_t.train(nb_epochs, train_loader, test_loader)\n",
    "    train_acc[i] = torch.FloatTensor(train)\n",
    "    test_acc[i] = torch.FloatTensor(test)"
   ]
  },
  {
   "cell_type": "code",
   "execution_count": 29,
   "metadata": {},
   "outputs": [
    {
     "data": {
      "image/png": "[encoded data removed]",
      "text/plain": [
       "<matplotlib.figure.Figure at 0x7fa084476510>"
      ]
     },
     "metadata": {},
     "output_type": "display_data"
    }
   ],
   "source": [
    "# Find best learning rate\n",
    "best_lr_idx = test_acc.max(1)[0].max(0)[1][0]\n",
    "best_lr = lr_search[best_lr_idx]\n",
    "plots_per_epoch([train_acc[best_lr_idx], test_acc[best_lr_idx]], [\"Train\", \"Test\"], \"Accuracy\", \"best lr = {}\".format(best_lr))"
   ]
  },
  {
   "cell_type": "markdown",
   "metadata": {},
   "source": [
    "---\n",
    "## Variance in training"
   ]
  },
  {
   "cell_type": "code",
   "execution_count": 3,
   "metadata": {},
   "outputs": [],
   "source": [
    "# Load tfidf dataset\n",
    "train_data, test_data = load_newsgroups(train_filename, test_filename, \n",
    "                                layers[0], train_size, test_size, \"tfidf\")\n",
    "learning_rate = 0.2"
   ]
  },
  {
   "cell_type": "code",
   "execution_count": 4,
   "metadata": {},
   "outputs": [],
   "source": [
    "batch_size = 1\n",
    "train_loader = DataLoader(train_data, batch_size=batch_size)\n",
    "test_loader = DataLoader(test_data, batch_size=batch_size)"
   ]
  },
  {
   "cell_type": "code",
   "execution_count": 9,
   "metadata": {},
   "outputs": [
    {
     "ename": "NameError",
     "evalue": "name 'nb_epochs' is not defined",
     "output_type": "error",
     "traceback": [
      "\u001b[0;31m---------------------------------------------------------------------------\u001b[0m",
      "\u001b[0;31mNameError\u001b[0m                                 Traceback (most recent call last)",
      "\u001b[0;32m<ipython-input-9-199cebac2246>\u001b[0m in \u001b[0;36m<module>\u001b[0;34m()\u001b[0m\n\u001b[1;32m      1\u001b[0m \u001b[0mmlp_t\u001b[0m \u001b[0;34m=\u001b[0m \u001b[0mNewsgroups\u001b[0m\u001b[0;34m(\u001b[0m\u001b[0mlayers\u001b[0m\u001b[0;34m,\u001b[0m \u001b[0mlearning_rate\u001b[0m\u001b[0;34m,\u001b[0m \u001b[0mmomentum\u001b[0m\u001b[0;34m)\u001b[0m\u001b[0;34m\u001b[0m\u001b[0m\n\u001b[0;32m----> 2\u001b[0;31m \u001b[0mtrain_loss\u001b[0m\u001b[0;34m,\u001b[0m \u001b[0mtrain_acc\u001b[0m\u001b[0;34m,\u001b[0m \u001b[0mtest_acc\u001b[0m \u001b[0;34m=\u001b[0m \u001b[0mmlp_t\u001b[0m\u001b[0;34m.\u001b[0m\u001b[0mtrain\u001b[0m\u001b[0;34m(\u001b[0m\u001b[0mnb_epochs\u001b[0m\u001b[0;34m,\u001b[0m \u001b[0mtrain_loader\u001b[0m\u001b[0;34m,\u001b[0m \u001b[0mtest_loader\u001b[0m\u001b[0;34m)\u001b[0m\u001b[0;34m\u001b[0m\u001b[0m\n\u001b[0m",
      "\u001b[0;31mNameError\u001b[0m: name 'nb_epochs' is not defined"
     ]
    }
   ],
   "source": [
    "mlp_t = Newsgroups(layers, learning_rate, momentum)\n",
    "train_loss, train_acc, test_acc = mlp_t.train(5000, train_loader, test_loader, by_epoch=False)"
   ]
  },
  {
   "cell_type": "code",
   "execution_count": null,
   "metadata": {},
   "outputs": [],
   "source": [
    "batch_size = 100\n",
    "train_loader = DataLoader(train_data, batch_size=batch_size)\n",
    "test_loader = DataLoader(test_data, batch_size=batch_size)"
   ]
  }
 ],
 "metadata": {
  "kernelspec": {
   "display_name": "Python 2",
   "language": "python",
   "name": "python2"
  },
  "language_info": {
   "codemirror_mode": {
    "name": "ipython",
    "version": 2
   },
   "file_extension": ".py",
   "mimetype": "text/x-python",
   "name": "python",
   "nbconvert_exporter": "python",
   "pygments_lexer": "ipython2",
   "version": "2.7.12"
  }
 },
 "nbformat": 4,
 "nbformat_minor": 2
}
